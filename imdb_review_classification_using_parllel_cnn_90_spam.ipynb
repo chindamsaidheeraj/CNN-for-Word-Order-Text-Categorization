{
  "cells": [
    {
      "cell_type": "code",
      "execution_count": 1,
      "metadata": {
        "_cell_guid": "79c7e3d0-c299-4dcb-8224-4455121ee9b0",
        "_uuid": "d629ff2d2480ee46fbb7e2d37f6b5fab8052498a",
        "id": "FHfMQbAgDgPp"
      },
      "outputs": [],
      "source": [
        "# import required packages\n",
        "import os\n",
        "import re\n",
        "import tarfile\n",
        "import numpy as np\n",
        "import tensorflow as tf\n",
        "os.environ['TF_CPP_MIN_LOG_LEVEL'] = '3'\n",
        "from keras.utils import get_file\n",
        "from bs4 import BeautifulSoup\n",
        "from tensorflow import keras\n",
        "from sklearn.utils import shuffle\n",
        "import matplotlib.pyplot as plt\n",
        "from tensorflow.keras import Sequential, Model\n",
        "from tensorflow.keras.preprocessing.text import Tokenizer, tokenizer_from_json\n",
        "from tensorflow.keras.preprocessing.sequence import pad_sequences"
      ]
    },
    {
      "cell_type": "markdown",
      "metadata": {
        "id": "PsLHZRJrDgPr"
      },
      "source": [
        "# **Data Preperation:**\n",
        "\n",
        "*   The data set consists of 25k training and testing samples.The first step is to read the files from the directory and form the dataset by assigning labels to the reviews.\n",
        "\n",
        "*   The follwing helper functions are created in order to help the data pre-processing set. We will discuss one by one."
      ]
    },
    {
      "cell_type": "code",
      "execution_count": 2,
      "metadata": {
        "id": "jTLWlQdADgPt",
        "colab": {
          "base_uri": "https://localhost:8080/",
          "height": 72
        },
        "outputId": "ea66d33f-90d7-46ae-9e66-929178d430fc"
      },
      "outputs": [
        {
          "output_type": "execute_result",
          "data": {
            "text/plain": [
              "'\\ndef download_data():\\n    data_dir = get_file(\\'aclImdb_v1.tar.gz\\', \\'http://ai.stanford.edu/~amaas/data/sentiment/aclImdb_v1.tar.gz\\',\\n                        cache_subdir=\"datasets\", hash_algorithm=\"auto\", extract=True, archive_format=\"auto\")\\n    my_tar = tarfile.open(data_dir)\\n    my_tar.extractall(\\'./data/\\')  # specify which folder to extract to\\n    my_tar.close()\\n'"
            ],
            "application/vnd.google.colaboratory.intrinsic+json": {
              "type": "string"
            }
          },
          "metadata": {},
          "execution_count": 2
        }
      ],
      "source": [
        "# function to download data\n",
        "'''\n",
        "def download_data():\n",
        "    data_dir = get_file('aclImdb_v1.tar.gz', 'http://ai.stanford.edu/~amaas/data/sentiment/aclImdb_v1.tar.gz',\n",
        "                        cache_subdir=\"datasets\", hash_algorithm=\"auto\", extract=True, archive_format=\"auto\")\n",
        "    my_tar = tarfile.open(data_dir)\n",
        "    my_tar.extractall('./data/')  # specify which folder to extract to\n",
        "    my_tar.close()\n",
        "'''"
      ]
    },
    {
      "cell_type": "markdown",
      "metadata": {
        "id": "Vv-nkeHPDgPt"
      },
      "source": [
        "1.   **Removal of HTML tags:** The reviews in the data set has html tags in the movie reviews in the dataset. The first step is to remove them as they are noise in our data.Below function helps us to achieve that."
      ]
    },
    {
      "cell_type": "code",
      "execution_count": 3,
      "metadata": {
        "id": "30fOK7uqDgPt"
      },
      "outputs": [],
      "source": [
        "# function to remove html tags from the reviews\n",
        "def remove_html_tags(data_raw):\n",
        "    pro_data = []\n",
        "    for i in range(len(data_raw)):\n",
        "        soup = BeautifulSoup(data_raw[i], \"html.parser\")\n",
        "        pro_data.append(soup.get_text())\n",
        "\n",
        "    return pro_data\n"
      ]
    },
    {
      "cell_type": "markdown",
      "metadata": {
        "id": "bhbotpz3DgPu"
      },
      "source": [
        "\n",
        "2.   **Removing special charecters and numbers:** The reviews in the dataset are ven assoicated with special charecters like /,\\,%,$,# which cannot contribute anything to the sentiment of the review. So below function will help us in removing them using regex.\n",
        "\n"
      ]
    },
    {
      "cell_type": "code",
      "execution_count": 4,
      "metadata": {
        "id": "s6ZyoOl6DgPu"
      },
      "outputs": [],
      "source": [
        "# function to remove special charecters from the reviews\n",
        "def remove_special_char(data_raw):\n",
        "    pro_data = []\n",
        "    for i in range(len(data_raw)):\n",
        "        review = re.sub('\\[[^]]*\\]', ' ', data_raw[i])\n",
        "        review = re.sub('[^a-zA-Z]', ' ', data_raw[i])\n",
        "        pro_data.append(review)\n",
        "\n",
        "    return pro_data"
      ]
    },
    {
      "cell_type": "markdown",
      "metadata": {
        "id": "hs4CIsVaDgPv"
      },
      "source": [
        "3.   **Removing Stop Words:** “stop words” usually refers to the most common words in a language. These words occur too often and doesn't contribute nuch to the sentiment of the review. But removing too many stop words will result in lossing the meaning od the text. So in order not to sacrifice meaning of the text, at first a tokenizer is used to fit the sentences of the training set. Then when observed the top words in the tokenizer appeared to be :\n",
        "\n",
        "\n",
        "\n",
        "```\n",
        "'': 1, 'the': 2, 'and': 3, 'a': 4, 'of': 5, 'to': 6, 'is': 7, 'it': 8, 'in': 9,\n",
        " 'i': 10, 'this': 11, 'that': 12, 's': 13, 'was': 14, 'as': 15, 'for': 16, \n",
        " 'with': 17, 'movie': 18, 'but': 19, 'film': 20, 't': 21, 'you': 22, 'on': 23, \n",
        " 'not': 24, 'he': 25, 'are': 26, 'his': 27, 'have': 28, 'be': 29, 'one': 30, \n",
        " 'all': 31, 'at': 32, 'they': 33, 'by': 34, 'an': 35, 'who': 36, 'so': 37, \n",
        " 'from': 38, 'like': 39, 'there': 40, 'her': 41, 'or': 42, 'just': 43,\n",
        "```\n",
        "\n",
        "We can observe that the words which occured mostly in the dataset text are words like 'the','and','a','of'.... which doesn't consitute much information in the text. So a custom stop word list as below has been choosen:\n",
        "\n",
        "```\n",
        "['the','and','a','of','to', 'is', 'it', 'in', 'i', 'this', 'that', 's', 'was',\n",
        " 'as', 'for', 'with']\n",
        "```\n",
        "\n",
        "The below helper function achieves the tas of removing stop words from the corpus and is as shown below:\n"
      ]
    },
    {
      "cell_type": "code",
      "execution_count": 5,
      "metadata": {
        "id": "4AdW6GfwDgPv"
      },
      "outputs": [],
      "source": [
        "# function to remove stop words\n",
        "def remove_stop_words(data_raw):\n",
        "    pro_data = []\n",
        "    for i in range(len(data_raw)):\n",
        "        text =  ' '.join([word for word in \n",
        "        data_raw[i].split() if word.lower() not in my_stop_words])\n",
        "        pro_data.append(text)\n",
        "\n",
        "    return pro_data"
      ]
    },
    {
      "cell_type": "markdown",
      "metadata": {
        "id": "ucaIODt1DgPw"
      },
      "source": [
        "4.   **Padding the sequences:** In the model that will be used will be learning Word embeddings. To learn word embedding, input to that layer should be documents as a sequences of numbers for words taken from vocab and with constant size.\n",
        "\n",
        "Conversion to sequences of tokens will be discussed next and the below function helps us to padd the sequences to constant length, so that they can be fed to Neural network to learn word embeddings:\n",
        "\n"
      ]
    },
    {
      "cell_type": "code",
      "execution_count": 6,
      "metadata": {
        "id": "bIEFnnPPDgPw"
      },
      "outputs": [],
      "source": [
        "# function to pad the sequences to constant length\n",
        "def pad_sentence(data_raw, sentence_length):   \n",
        "    return pad_sequences(data_raw, maxlen=sentence_length, dtype='int32', \n",
        "    padding='post', truncating='post')"
      ]
    },
    {
      "cell_type": "markdown",
      "metadata": {
        "id": "B1Fg22jFDgPw"
      },
      "source": [
        "\n",
        "A post truncation with a '0' value is choosen.\n",
        "\n",
        "\n",
        "5.   **Tokenization of the documents:** The next step taken is to tokenize the corpus documents so that all documents can be represented as list of numbers, where each word is assigned a unique value. A vocubalory or 10,000 size has been choosen so that all necessary words can be caputered. An Out of Vocabulary token is used to represent all the words that are not present in the vocabulary dictonary built using tokenzier.\n",
        "\n",
        "Next all the documents are converted to sequences of numbers using text_to_sequences helper function from TensorFlow. Before tokenization we will remove the stop wors from the corpus. The helper function is as below:\n"
      ]
    },
    {
      "cell_type": "code",
      "execution_count": 25,
      "metadata": {
        "id": "YAdii3MYDgPw"
      },
      "outputs": [],
      "source": [
        "# function to tokenize the sentences after removing html,secail cahrecters and stop words\n",
        "def tokenize_sentences(train, test, vocab_size, sentence_length):\n",
        "    train = remove_stop_words(train)\n",
        "    test = remove_stop_words(test)\n",
        "    tokenizer = Tokenizer(num_words=vocab_size)\n",
        "    tokenizer.fit_on_texts(train)\n",
        "\n",
        "    train = tokenizer.texts_to_sequences(train)\n",
        "    test = tokenizer.texts_to_sequences(test)\n",
        "\n",
        "    train = pad_sentence(train, sentence_length)\n",
        "    test = pad_sentence(test, sentence_length)\n",
        "    print(train.shape)\n",
        "    return train, test"
      ]
    },
    {
      "cell_type": "markdown",
      "metadata": {
        "id": "zHqRztSYDgPx"
      },
      "source": [
        "\n",
        "\n",
        "6.   **All pre-processing steps:** The below function cobines all the above processing steps in the order of reading the data from the directory, assigning labels to the documents,removing html tags, removing special charecters and numbers followed by stop words removal and tokenization.\n",
        "\n",
        "This function returns the train set in the form ready to be fed to the Neural Net model that we are goinig to choose.s\n"
      ]
    },
    {
      "cell_type": "code",
      "execution_count": 36,
      "metadata": {
        "id": "0VPhWPJEDgPx"
      },
      "outputs": [],
      "source": [
        "# function to perform all data preprocessing techniques and return the processed data\n",
        "import pandas as pd\n",
        "def get_data_preprocessed(vocab_size=6000, max_seq_length=600):\n",
        "    # dictionary mapping label name to numeric id\n",
        "   # labels_index = {'pos': 1, 'neg': 0}\n",
        "\n",
        "    # reading train directory\n",
        "    train_texts = []  # list of text samples\n",
        "    train_labels = []  # list of label ids\n",
        "  \n",
        "    \n",
        "    datasource=pd.read_csv('/content/spam_train.csv')\n",
        "    for index, row in datasource.iterrows():\n",
        "        train_texts.append(row['data'])\n",
        "        train_labels.append(row['b_labels'])\n",
        "    # reading test directory\n",
        "    test_texts = []  # list of text samples\n",
        "    test_labels = []  # list of label ids\n",
        "    datasourc_test=pd.read_csv('/content/spam_test.csv')\n",
        "    for index, row in datasourc_test.iterrows():\n",
        "        test_texts.append(row['data'])\n",
        "        test_labels.append(row['b_labels'])\n",
        "  \n",
        "    print(\"Data loading from directory finished, proceeding to pre-processing\")\n",
        "    train_texts = remove_html_tags(train_texts)\n",
        "    train_texts = remove_special_char(train_texts)\n",
        "    print(\"Removed html tags from the data\")\n",
        "    test_texts = remove_html_tags(test_texts)\n",
        "    test_texts = remove_special_char(test_texts)\n",
        "    print(\"Removed special charecters from the data\")\n",
        "\n",
        "    train_texts, test_texts = tokenize_sentences(train_texts, test_texts, vocab_size, max_seq_length)\n",
        "    print(train_texts.shape)\n",
        "    print(\"Tokenized and padded the sequences to constant length\")\n",
        "\n",
        "    return np.array(train_texts), np.array(np.eye(2)[train_labels]),np.array(test_texts), np.array(np.eye(2)[test_labels])"
      ]
    },
    {
      "cell_type": "code",
      "source": [
        "train_texts = []  # list of label ids\n",
        "datasource=pd.read_csv('/content/spam_train.csv')\n",
        "for index, row in datasource.iterrows():\n",
        "    train_texts.append(row['data'])\n",
        "len(train_texts)  \n",
        "train_texts = remove_html_tags(train_texts)      "
      ],
      "metadata": {
        "id": "0b1TSefLLWoC"
      },
      "execution_count": 34,
      "outputs": []
    },
    {
      "cell_type": "code",
      "source": [
        "train_texts = []  # list of text samples\n",
        "train_labels = []  # list of label ids\n",
        "  \n",
        "    \n",
        "datasource=pd.read_csv('/content/spam_train.csv')\n",
        "for index, row in datasource.iterrows():\n",
        "        train_texts.append(row['data'])\n",
        "        train_labels.append(row['b_labels'])\n",
        "# reading test directory\n",
        "test_texts = []  # list of text samples\n",
        "test_labels = []  # list of label ids\n",
        "datasourc_test=pd.read_csv('/content/spam_test.csv')\n",
        "for index, row in datasourc_test.iterrows():\n",
        "        test_texts.append(row['data'])\n",
        "        test_texts.append(row['b_labels'])\n",
        "  \n",
        "print(\"Data loading from directory finished, proceeding to pre-processing\")\n",
        "train_texts = remove_html_tags(train_texts)\n",
        "train_texts = remove_special_char(train_texts)\n",
        "print(\"Removed html tags from the data\")\n",
        "test_texts = remove_html_tags(test_texts)\n",
        "test_texts = remove_special_char(test_texts)\n",
        "print(\"Removed special charecters from the data\")\n",
        "train_texts, test_texts = tokenize_sentences(train_texts, test_texts, vocab_size, max_seq_length)\n",
        "print(train_texts.shape)\n",
        "print(\"Tokenized and padded the sequences to constant length\")"
      ],
      "metadata": {
        "colab": {
          "base_uri": "https://localhost:8080/",
          "height": 432
        },
        "id": "4pjWneC3MZFE",
        "outputId": "8d8b4538-aa90-4614-be31-b8340159871d"
      },
      "execution_count": 35,
      "outputs": [
        {
          "output_type": "stream",
          "name": "stdout",
          "text": [
            "Data loading from directory finished, proceeding to pre-processing\n",
            "Removed html tags from the data\n"
          ]
        },
        {
          "output_type": "error",
          "ename": "TypeError",
          "evalue": "ignored",
          "traceback": [
            "\u001b[0;31m---------------------------------------------------------------------------\u001b[0m",
            "\u001b[0;31mTypeError\u001b[0m                                 Traceback (most recent call last)",
            "\u001b[0;32m<ipython-input-35-4bf861fa663c>\u001b[0m in \u001b[0;36m<module>\u001b[0;34m\u001b[0m\n\u001b[1;32m     19\u001b[0m \u001b[0mtrain_texts\u001b[0m \u001b[0;34m=\u001b[0m \u001b[0mremove_special_char\u001b[0m\u001b[0;34m(\u001b[0m\u001b[0mtrain_texts\u001b[0m\u001b[0;34m)\u001b[0m\u001b[0;34m\u001b[0m\u001b[0;34m\u001b[0m\u001b[0m\n\u001b[1;32m     20\u001b[0m \u001b[0mprint\u001b[0m\u001b[0;34m(\u001b[0m\u001b[0;34m\"Removed html tags from the data\"\u001b[0m\u001b[0;34m)\u001b[0m\u001b[0;34m\u001b[0m\u001b[0;34m\u001b[0m\u001b[0m\n\u001b[0;32m---> 21\u001b[0;31m \u001b[0mtest_texts\u001b[0m \u001b[0;34m=\u001b[0m \u001b[0mremove_html_tags\u001b[0m\u001b[0;34m(\u001b[0m\u001b[0mtest_texts\u001b[0m\u001b[0;34m)\u001b[0m\u001b[0;34m\u001b[0m\u001b[0;34m\u001b[0m\u001b[0m\n\u001b[0m\u001b[1;32m     22\u001b[0m \u001b[0mtest_texts\u001b[0m \u001b[0;34m=\u001b[0m \u001b[0mremove_special_char\u001b[0m\u001b[0;34m(\u001b[0m\u001b[0mtest_texts\u001b[0m\u001b[0;34m)\u001b[0m\u001b[0;34m\u001b[0m\u001b[0;34m\u001b[0m\u001b[0m\n\u001b[1;32m     23\u001b[0m \u001b[0mprint\u001b[0m\u001b[0;34m(\u001b[0m\u001b[0;34m\"Removed special charecters from the data\"\u001b[0m\u001b[0;34m)\u001b[0m\u001b[0;34m\u001b[0m\u001b[0;34m\u001b[0m\u001b[0m\n",
            "\u001b[0;32m<ipython-input-3-484ed1f3043b>\u001b[0m in \u001b[0;36mremove_html_tags\u001b[0;34m(data_raw)\u001b[0m\n\u001b[1;32m      3\u001b[0m     \u001b[0mpro_data\u001b[0m \u001b[0;34m=\u001b[0m \u001b[0;34m[\u001b[0m\u001b[0;34m]\u001b[0m\u001b[0;34m\u001b[0m\u001b[0;34m\u001b[0m\u001b[0m\n\u001b[1;32m      4\u001b[0m     \u001b[0;32mfor\u001b[0m \u001b[0mi\u001b[0m \u001b[0;32min\u001b[0m \u001b[0mrange\u001b[0m\u001b[0;34m(\u001b[0m\u001b[0mlen\u001b[0m\u001b[0;34m(\u001b[0m\u001b[0mdata_raw\u001b[0m\u001b[0;34m)\u001b[0m\u001b[0;34m)\u001b[0m\u001b[0;34m:\u001b[0m\u001b[0;34m\u001b[0m\u001b[0;34m\u001b[0m\u001b[0m\n\u001b[0;32m----> 5\u001b[0;31m         \u001b[0msoup\u001b[0m \u001b[0;34m=\u001b[0m \u001b[0mBeautifulSoup\u001b[0m\u001b[0;34m(\u001b[0m\u001b[0mdata_raw\u001b[0m\u001b[0;34m[\u001b[0m\u001b[0mi\u001b[0m\u001b[0;34m]\u001b[0m\u001b[0;34m,\u001b[0m \u001b[0;34m\"html.parser\"\u001b[0m\u001b[0;34m)\u001b[0m\u001b[0;34m\u001b[0m\u001b[0;34m\u001b[0m\u001b[0m\n\u001b[0m\u001b[1;32m      6\u001b[0m         \u001b[0mpro_data\u001b[0m\u001b[0;34m.\u001b[0m\u001b[0mappend\u001b[0m\u001b[0;34m(\u001b[0m\u001b[0msoup\u001b[0m\u001b[0;34m.\u001b[0m\u001b[0mget_text\u001b[0m\u001b[0;34m(\u001b[0m\u001b[0;34m)\u001b[0m\u001b[0;34m)\u001b[0m\u001b[0;34m\u001b[0m\u001b[0;34m\u001b[0m\u001b[0m\n\u001b[1;32m      7\u001b[0m \u001b[0;34m\u001b[0m\u001b[0m\n",
            "\u001b[0;32m/usr/local/lib/python3.7/dist-packages/bs4/__init__.py\u001b[0m in \u001b[0;36m__init__\u001b[0;34m(self, markup, features, builder, parse_only, from_encoding, exclude_encodings, **kwargs)\u001b[0m\n\u001b[1;32m    244\u001b[0m         \u001b[0;32mif\u001b[0m \u001b[0mhasattr\u001b[0m\u001b[0;34m(\u001b[0m\u001b[0mmarkup\u001b[0m\u001b[0;34m,\u001b[0m \u001b[0;34m'read'\u001b[0m\u001b[0;34m)\u001b[0m\u001b[0;34m:\u001b[0m        \u001b[0;31m# It's a file-type object.\u001b[0m\u001b[0;34m\u001b[0m\u001b[0;34m\u001b[0m\u001b[0m\n\u001b[1;32m    245\u001b[0m             \u001b[0mmarkup\u001b[0m \u001b[0;34m=\u001b[0m \u001b[0mmarkup\u001b[0m\u001b[0;34m.\u001b[0m\u001b[0mread\u001b[0m\u001b[0;34m(\u001b[0m\u001b[0;34m)\u001b[0m\u001b[0;34m\u001b[0m\u001b[0;34m\u001b[0m\u001b[0m\n\u001b[0;32m--> 246\u001b[0;31m         elif len(markup) <= 256 and (\n\u001b[0m\u001b[1;32m    247\u001b[0m                 \u001b[0;34m(\u001b[0m\u001b[0misinstance\u001b[0m\u001b[0;34m(\u001b[0m\u001b[0mmarkup\u001b[0m\u001b[0;34m,\u001b[0m \u001b[0mbytes\u001b[0m\u001b[0;34m)\u001b[0m \u001b[0;32mand\u001b[0m \u001b[0;32mnot\u001b[0m \u001b[0;34mb'<'\u001b[0m \u001b[0;32min\u001b[0m \u001b[0mmarkup\u001b[0m\u001b[0;34m)\u001b[0m\u001b[0;34m\u001b[0m\u001b[0;34m\u001b[0m\u001b[0m\n\u001b[1;32m    248\u001b[0m                 \u001b[0;32mor\u001b[0m \u001b[0;34m(\u001b[0m\u001b[0misinstance\u001b[0m\u001b[0;34m(\u001b[0m\u001b[0mmarkup\u001b[0m\u001b[0;34m,\u001b[0m \u001b[0mstr\u001b[0m\u001b[0;34m)\u001b[0m \u001b[0;32mand\u001b[0m \u001b[0;32mnot\u001b[0m \u001b[0;34m'<'\u001b[0m \u001b[0;32min\u001b[0m \u001b[0mmarkup\u001b[0m\u001b[0;34m)\u001b[0m\u001b[0;34m\u001b[0m\u001b[0;34m\u001b[0m\u001b[0m\n",
            "\u001b[0;31mTypeError\u001b[0m: object of type 'int' has no len()"
          ]
        }
      ]
    },
    {
      "cell_type": "markdown",
      "metadata": {
        "id": "X0rhR3DBDgPx"
      },
      "source": [
        "# **Model Selection:**\n",
        "\n",
        "The model has been selected based on the paper **[\"Effective Use of Word Order for Text Categorization with Convolutional Neural Networks\"](https://arxiv.org/pdf/1412.1058.pdf) by  Rie Johnson and Tong Zhang**\n",
        "\n",
        "**Reference:**\n",
        "\n",
        "Johnson, Rie & Zhang, Tong. (2014). Effective Use of Word Order for Text Categorization with Convolutional Neural Networks'\n",
        "\n",
        "\n",
        "\n",
        "**The below is the summary of the paper and major considerations explored that made choose the model for classification:**\n",
        "\n",
        "\n",
        "\n",
        "*   Convolutionary Neural Network (CNN) is a neural network that can make use of the internal data structure, such as the 2D image data structure. The model selcted is based on CNN for exploring the 1D structure (namely, word order) of text data for accurate prediction.\n",
        "*   Rather than use low-dimensional word vectors as inputs, as is often the case, we apply CNN directly to high-dimensional text data which leads to the direct learning of word embedding of small text regions for classification use.\n",
        "*   The usage of n-grams and phrases to understand the meaning of the text,so that application like topic classifcation can be benifited. But i=most of the time the meaning of the words is not very effective in such cases for improving the accuracy of the model.\n",
        "*   In order to benoft from word order to understand the context CNN are used in this case. CNN is used on text categorization in order to make use the 1D structure (word order) of document data,so that each unit in the convolution layer responds to a small region of a document (a sequence of words). \n",
        "*   The authors directly used a embedding layer as th input to CNN network, so that the network can learn the embeddings on its own. Then the vector of sequences of embeddings is passed to the CNN network for performing classification.\n",
        "\n",
        "A helper function to create such model is as shown below:\n",
        "\n",
        "#####  **Imporatant Note:  Usage of Parllel CNN model:**\n",
        "*   The original model is a simple CNN network with just couple of 1D convolution layers.While this can be extended in several ways, the experiment of extending it to have parllel CNN i.e. it has two or more parllel layers as shown below:\n",
        "\n",
        "![alt text](https://drive.google.com/uc?id=1PaiKfV3Ecb8M5aAe8DgH8LMFLVTqurkv)\n",
        "\n",
        "\n",
        "*   The idea is to learn multiple types of embedding of small text regions.So that they can complement each other to improve model accuracy. In this architecture, multiple convolution-pooling pairs with different region sizes (and possibly different region vector representations) are given one-hot vectors as input and produce feature vectors for each region; \n",
        "*  The concatenation of the produced feature vectors is done in the top layer.\n",
        "*  After the concatenation layer, we use batch normalization and drop out layer to reqularize the model well for unseen data.\n",
        "*  Then we use a Dense layer with 2 neurons as output layer with softmax as activation function.\n",
        "\n"
      ]
    },
    {
      "cell_type": "code",
      "execution_count": 27,
      "metadata": {
        "id": "xSgg2PJcDgPx"
      },
      "outputs": [],
      "source": [
        "def create_model(emb_dim, num_words, sentence_length, hid_dim, class_dim, dropout_rate):\n",
        "    input_layer = tf.keras.layers.Input(shape=(sentence_length,), dtype=tf.int32)\n",
        "\n",
        "    layer = tf.keras.layers.Embedding(num_words, output_dim=emb_dim)(input_layer)\n",
        "\n",
        "    layer_conv3 = tf.keras.layers.Conv1D(hid_dim, 3, activation=\"relu\")(layer)\n",
        "    layer_conv3 = tf.keras.layers.GlobalMaxPooling1D()(layer_conv3)\n",
        "\n",
        "    layer_conv4 = tf.keras.layers.Conv1D(hid_dim, 2, activation=\"relu\")(layer)\n",
        "    layer_conv4 = tf.keras.layers.GlobalMaxPooling1D()(layer_conv4)\n",
        "\n",
        "    layer = tf.keras.layers.concatenate([layer_conv4, layer_conv3], axis=1)\n",
        "    layer = tf.keras.layers.BatchNormalization()(layer)\n",
        "    layer = tf.keras.layers.Dropout(dropout_rate)(layer)\n",
        "\n",
        "    output = tf.keras.layers.Dense(class_dim, activation=\"softmax\")(layer)\n",
        "\n",
        "    model = Model(inputs=input_layer, outputs=output)\n",
        "\n",
        "    return model"
      ]
    },
    {
      "cell_type": "markdown",
      "metadata": {
        "id": "KTRuJlutDgPx"
      },
      "source": [
        "# **Training the Model:**"
      ]
    },
    {
      "cell_type": "code",
      "execution_count": 11,
      "metadata": {
        "id": "Ym0jEzYRDgPy"
      },
      "outputs": [],
      "source": [
        "# function to preprocess data set, create ,compile and train model\n",
        "def run_model(x_train, y_train, emb_dim, hid_dim, batch_size, epochs, model_save_dir, num_of_classes, vocab_size,max_seq_length):\n",
        "    # creating a model with required parameters\n",
        "    model = create_model(emb_dim, vocab_size, max_seq_length, hid_dim, 2, DROPOUT_RATE)\n",
        "    model.summary()\n",
        "\n",
        "    # compiling the model\n",
        "    model.compile(loss=\"categorical_crossentropy\",\n",
        "                  optimizer=tf.keras.optimizers.Adam(learning_rate=0.0001),\n",
        "                  metrics=[\"accuracy\"])\n",
        "\n",
        "    # declaring path to save models\n",
        "    if not os.path.exists(model_save_dir):\n",
        "        os.makedirs(model_save_dir)\n",
        "\n",
        "    filepath = model_save_dir + \"/model-{epoch:02d}.hdf5\"\n",
        "\n",
        "    # declaring call back function\n",
        "    checkpoint_callback = tf.keras.callbacks.ModelCheckpoint(filepath, monitor='val_accuracy',\n",
        "                                                             verbose=1, save_best_only=True,\n",
        "                                                             save_weights_only=True, mode='auto')\n",
        "\n",
        "    # training the model with a validation split of 0.2\n",
        "    history = model.fit(x_train, y_train, batch_size=batch_size,\n",
        "                        validation_split=0.2, epochs=epochs, callbacks=[checkpoint_callback], verbose=1)\n",
        "\n",
        "\n",
        "    return history,model"
      ]
    },
    {
      "cell_type": "code",
      "execution_count": 12,
      "metadata": {
        "id": "whhLAc33DgPy"
      },
      "outputs": [],
      "source": [
        "# function to plot accuracy comparision graphs\n",
        "def plot_graph_accuracy(hist, title_string):\n",
        "    plt.figure(figsize=(12, 8))\n",
        "    plt.plot(hist.history['accuracy'])\n",
        "    plt.plot(hist.history['val_accuracy'])\n",
        "    plt.title(title_string)\n",
        "    plt.ylabel('accuracy')\n",
        "    plt.xlabel('epoch')\n",
        "    plt.legend(['train_accuracy', 'val_accuracy'], loc='lower right')\n",
        "    plt.show()\n",
        "\n",
        "\n",
        "# function to plot accuracy comparision graphs\n",
        "def plot_graph_loss(hist, title_string):\n",
        "    plt.figure(figsize=(12, 8))\n",
        "    plt.plot(hist.history['loss'])\n",
        "    plt.plot(hist.history['val_loss'])\n",
        "    plt.title(title_string)\n",
        "    plt.ylabel('loss')\n",
        "    plt.xlabel('epoch')\n",
        "    plt.legend(['train_loss', 'val_loss'], loc='lower right')\n",
        "    plt.show()"
      ]
    },
    {
      "cell_type": "code",
      "execution_count": 29,
      "metadata": {
        "id": "g2JE_ZkgDgPy"
      },
      "outputs": [],
      "source": [
        "\n",
        "\n",
        "#declaring a custom stop words list to be removed from the reviews\n",
        "my_stop_words = ['the', 'and', 'a', 'of', 'to', 'is', 'it', 'in', 'i', 'this', 'that', 's', 'was', 'as', 'for', 'with']\n",
        "\n",
        "#declaring drop out rate\n",
        "DROPOUT_RATE = 0.9"
      ]
    },
    {
      "cell_type": "code",
      "execution_count": 38,
      "metadata": {
        "id": "cOIQQmdFDgPy",
        "outputId": "27c20be0-1ba1-4384-ce2c-f8fdd7d75f8a",
        "colab": {
          "base_uri": "https://localhost:8080/",
          "height": 1000
        }
      },
      "outputs": [
        {
          "output_type": "stream",
          "name": "stdout",
          "text": [
            "downloaded data\n",
            "Data loading from directory finished, proceeding to pre-processing\n",
            "Removed html tags from the data\n",
            "Removed special charecters from the data\n",
            "(5171, 1000)\n",
            "(5171, 1000)\n",
            "Tokenized and padded the sequences to constant length\n",
            "(5171, 1000)\n",
            "train data preprocessed 1\n",
            "train data preprocessed 2\n",
            "Model: \"model_1\"\n",
            "__________________________________________________________________________________________________\n",
            " Layer (type)                   Output Shape         Param #     Connected to                     \n",
            "==================================================================================================\n",
            " input_2 (InputLayer)           [(None, 1000)]       0           []                               \n",
            "                                                                                                  \n",
            " embedding_1 (Embedding)        (None, 1000, 500)    5000000     ['input_2[0][0]']                \n",
            "                                                                                                  \n",
            " conv1d_3 (Conv1D)              (None, 999, 1024)    1025024     ['embedding_1[0][0]']            \n",
            "                                                                                                  \n",
            " conv1d_2 (Conv1D)              (None, 998, 1024)    1537024     ['embedding_1[0][0]']            \n",
            "                                                                                                  \n",
            " global_max_pooling1d_3 (Global  (None, 1024)        0           ['conv1d_3[0][0]']               \n",
            " MaxPooling1D)                                                                                    \n",
            "                                                                                                  \n",
            " global_max_pooling1d_2 (Global  (None, 1024)        0           ['conv1d_2[0][0]']               \n",
            " MaxPooling1D)                                                                                    \n",
            "                                                                                                  \n",
            " concatenate_1 (Concatenate)    (None, 2048)         0           ['global_max_pooling1d_3[0][0]', \n",
            "                                                                  'global_max_pooling1d_2[0][0]'] \n",
            "                                                                                                  \n",
            " batch_normalization_1 (BatchNo  (None, 2048)        8192        ['concatenate_1[0][0]']          \n",
            " rmalization)                                                                                     \n",
            "                                                                                                  \n",
            " dropout_1 (Dropout)            (None, 2048)         0           ['batch_normalization_1[0][0]']  \n",
            "                                                                                                  \n",
            " dense_1 (Dense)                (None, 2)            4098        ['dropout_1[0][0]']              \n",
            "                                                                                                  \n",
            "==================================================================================================\n",
            "Total params: 7,574,338\n",
            "Trainable params: 7,570,242\n",
            "Non-trainable params: 4,096\n",
            "__________________________________________________________________________________________________\n",
            "Epoch 1/20\n",
            "9/9 [==============================] - ETA: 0s - loss: 1.1587 - accuracy: 0.5309\n",
            "Epoch 1: val_accuracy improved from -inf to 0.87150, saving model to ./data/model-01.hdf5\n",
            "9/9 [==============================] - 20s 2s/step - loss: 1.1587 - accuracy: 0.5309 - val_loss: 0.6220 - val_accuracy: 0.8715\n",
            "Epoch 2/20\n",
            "9/9 [==============================] - ETA: 0s - loss: 0.9744 - accuracy: 0.6003\n",
            "Epoch 2: val_accuracy did not improve from 0.87150\n",
            "9/9 [==============================] - 20s 2s/step - loss: 0.9744 - accuracy: 0.6003 - val_loss: 0.5889 - val_accuracy: 0.8715\n",
            "Epoch 3/20\n",
            "9/9 [==============================] - ETA: 0s - loss: 0.9145 - accuracy: 0.6306\n",
            "Epoch 3: val_accuracy did not improve from 0.87150\n",
            "9/9 [==============================] - 21s 2s/step - loss: 0.9145 - accuracy: 0.6306 - val_loss: 0.5633 - val_accuracy: 0.8715\n",
            "Epoch 4/20\n",
            "9/9 [==============================] - ETA: 0s - loss: 0.7744 - accuracy: 0.6741\n",
            "Epoch 4: val_accuracy did not improve from 0.87150\n",
            "9/9 [==============================] - 21s 2s/step - loss: 0.7744 - accuracy: 0.6741 - val_loss: 0.5419 - val_accuracy: 0.8715\n",
            "Epoch 5/20\n",
            "9/9 [==============================] - ETA: 0s - loss: 0.6806 - accuracy: 0.7065\n",
            "Epoch 5: val_accuracy did not improve from 0.87150\n",
            "9/9 [==============================] - 20s 2s/step - loss: 0.6806 - accuracy: 0.7065 - val_loss: 0.5214 - val_accuracy: 0.8715\n",
            "Epoch 6/20\n",
            "9/9 [==============================] - ETA: 0s - loss: 0.6511 - accuracy: 0.7217\n",
            "Epoch 6: val_accuracy did not improve from 0.87150\n",
            "9/9 [==============================] - 20s 2s/step - loss: 0.6511 - accuracy: 0.7217 - val_loss: 0.5020 - val_accuracy: 0.8715\n",
            "Epoch 7/20\n",
            "9/9 [==============================] - ETA: 0s - loss: 0.5777 - accuracy: 0.7488\n",
            "Epoch 7: val_accuracy did not improve from 0.87150\n",
            "9/9 [==============================] - 20s 2s/step - loss: 0.5777 - accuracy: 0.7488 - val_loss: 0.4841 - val_accuracy: 0.8715\n",
            "Epoch 8/20\n",
            "9/9 [==============================] - ETA: 0s - loss: 0.5433 - accuracy: 0.7664\n",
            "Epoch 8: val_accuracy did not improve from 0.87150\n",
            "9/9 [==============================] - 21s 2s/step - loss: 0.5433 - accuracy: 0.7664 - val_loss: 0.4677 - val_accuracy: 0.8715\n",
            "Epoch 9/20\n",
            "9/9 [==============================] - ETA: 0s - loss: 0.5234 - accuracy: 0.7790\n",
            "Epoch 9: val_accuracy did not improve from 0.87150\n",
            "9/9 [==============================] - 21s 2s/step - loss: 0.5234 - accuracy: 0.7790 - val_loss: 0.4523 - val_accuracy: 0.8715\n",
            "Epoch 10/20\n",
            "9/9 [==============================] - ETA: 0s - loss: 0.4844 - accuracy: 0.7858\n",
            "Epoch 10: val_accuracy did not improve from 0.87150\n",
            "9/9 [==============================] - 20s 2s/step - loss: 0.4844 - accuracy: 0.7858 - val_loss: 0.4378 - val_accuracy: 0.8715\n",
            "Epoch 11/20\n",
            "9/9 [==============================] - ETA: 0s - loss: 0.4545 - accuracy: 0.8020\n",
            "Epoch 11: val_accuracy did not improve from 0.87150\n",
            "9/9 [==============================] - 20s 2s/step - loss: 0.4545 - accuracy: 0.8020 - val_loss: 0.4255 - val_accuracy: 0.8715\n",
            "Epoch 12/20\n",
            "9/9 [==============================] - ETA: 0s - loss: 0.4185 - accuracy: 0.8170\n",
            "Epoch 12: val_accuracy improved from 0.87150 to 0.87343, saving model to ./data/model-12.hdf5\n",
            "9/9 [==============================] - 20s 2s/step - loss: 0.4185 - accuracy: 0.8170 - val_loss: 0.4145 - val_accuracy: 0.8734\n",
            "Epoch 13/20\n",
            "9/9 [==============================] - ETA: 0s - loss: 0.3942 - accuracy: 0.8368\n",
            "Epoch 13: val_accuracy did not improve from 0.87343\n",
            "9/9 [==============================] - 20s 2s/step - loss: 0.3942 - accuracy: 0.8368 - val_loss: 0.4031 - val_accuracy: 0.8734\n",
            "Epoch 14/20\n",
            "9/9 [==============================] - ETA: 0s - loss: 0.3703 - accuracy: 0.8375\n",
            "Epoch 14: val_accuracy did not improve from 0.87343\n",
            "9/9 [==============================] - 20s 2s/step - loss: 0.3703 - accuracy: 0.8375 - val_loss: 0.3894 - val_accuracy: 0.8734\n",
            "Epoch 15/20\n",
            "9/9 [==============================] - ETA: 0s - loss: 0.3373 - accuracy: 0.8501\n",
            "Epoch 15: val_accuracy improved from 0.87343 to 0.87536, saving model to ./data/model-15.hdf5\n",
            "9/9 [==============================] - 21s 2s/step - loss: 0.3373 - accuracy: 0.8501 - val_loss: 0.3752 - val_accuracy: 0.8754\n",
            "Epoch 16/20\n",
            "9/9 [==============================] - ETA: 0s - loss: 0.3236 - accuracy: 0.8619\n",
            "Epoch 16: val_accuracy did not improve from 0.87536\n",
            "9/9 [==============================] - 20s 2s/step - loss: 0.3236 - accuracy: 0.8619 - val_loss: 0.3642 - val_accuracy: 0.8754\n",
            "Epoch 17/20\n",
            "9/9 [==============================] - ETA: 0s - loss: 0.3028 - accuracy: 0.8685\n",
            "Epoch 17: val_accuracy improved from 0.87536 to 0.87826, saving model to ./data/model-17.hdf5\n",
            "9/9 [==============================] - 21s 2s/step - loss: 0.3028 - accuracy: 0.8685 - val_loss: 0.3542 - val_accuracy: 0.8783\n",
            "Epoch 18/20\n",
            "9/9 [==============================] - ETA: 0s - loss: 0.2873 - accuracy: 0.8755\n",
            "Epoch 18: val_accuracy improved from 0.87826 to 0.87923, saving model to ./data/model-18.hdf5\n",
            "9/9 [==============================] - 21s 2s/step - loss: 0.2873 - accuracy: 0.8755 - val_loss: 0.3453 - val_accuracy: 0.8792\n",
            "Epoch 19/20\n",
            "9/9 [==============================] - ETA: 0s - loss: 0.2568 - accuracy: 0.8902\n",
            "Epoch 19: val_accuracy improved from 0.87923 to 0.88309, saving model to ./data/model-19.hdf5\n",
            "9/9 [==============================] - 20s 2s/step - loss: 0.2568 - accuracy: 0.8902 - val_loss: 0.3348 - val_accuracy: 0.8831\n",
            "Epoch 20/20\n",
            "9/9 [==============================] - ETA: 0s - loss: 0.2502 - accuracy: 0.8975\n",
            "Epoch 20: val_accuracy improved from 0.88309 to 0.88599, saving model to ./data/model-20.hdf5\n",
            "9/9 [==============================] - 21s 2s/step - loss: 0.2502 - accuracy: 0.8975 - val_loss: 0.3242 - val_accuracy: 0.8860\n",
            "final training accuracy:  0.8974854946136475\n",
            "final training loss:  0.2501935660839081\n",
            "26/26 [==============================] - 1s 24ms/step - loss: 0.3078 - accuracy: 0.9052\n",
            "test_accuracy: [0.307778537273407, 0.9052368998527527]\n"
          ]
        },
        {
          "output_type": "display_data",
          "data": {
            "text/plain": [
              "<Figure size 864x576 with 1 Axes>"
            ],
            "image/png": "[encoded data removed]"
          },
          "metadata": {
            "needs_background": "light"
          }
        },
        {
          "output_type": "display_data",
          "data": {
            "text/plain": [
              "<Figure size 864x576 with 1 Axes>"
            ],
            "image/png": "[encoded data removed]"
          },
          "metadata": {
            "needs_background": "light"
          }
        }
      ],
      "source": [
        "if __name__ == \"__main__\":\n",
        "    vocab_size = 10000\n",
        "    max_seq_length = 1000\n",
        "    # 1. load your training data\n",
        "    # expecting that the dat is already available , so commenting the function\n",
        "    #download_data()\n",
        "    print(\"downloaded data\")\n",
        "\n",
        "    # loading the train data and getting the data after pre-processing\n",
        "    # creating data sets\n",
        "    x_train, y_train, x_text, y_text = get_data_preprocessed(vocab_size, max_seq_length)\n",
        "    print(x_train.shape)\n",
        "    print(\"train data preprocessed 1\")\n",
        "    x_train, y_train = shuffle(x_train, y_train)\n",
        "    print(\"train data preprocessed 2\")\n",
        "\n",
        "    # 2. Train your network\n",
        "    # Make sure to print your training loss and accuracy within training to show progress\n",
        "    history, model = run_model(x_train, y_train, 500, 1024, 512, 20, \"./data/\", 2, 10000, 1000)\n",
        "    \n",
        "       # print accuracy and loss graphs\n",
        "    # Make sure you print the final training accuracy\n",
        "    print(\"final training accuracy: \",history.history['accuracy'][-1])\n",
        "    print(\"final training loss: \",history.history['loss'][-1])\n",
        "    \n",
        "    score = model.evaluate(x_text, y_text, batch_size=16)\n",
        "    print(\"test_accuracy:\", score)\n",
        "\n",
        "    # print accuracy and loss graphs\n",
        "    plot_graph_accuracy(history, \"Accuracy\")\n",
        "    plot_graph_loss(history, \"Loss\")\n",
        "\n",
        "    # 3. Save your model\n",
        "    model.save(\"20841154_NLP_model.h5\")"
      ]
    },
    {
      "cell_type": "code",
      "execution_count": null,
      "metadata": {
        "id": "IMm2xVftDgPz"
      },
      "outputs": [],
      "source": []
    }
  ],
  "metadata": {
    "kernelspec": {
      "display_name": "Python 3",
      "language": "python",
      "name": "python3"
    },
    "language_info": {
      "codemirror_mode": {
        "name": "ipython",
        "version": 3
      },
      "file_extension": ".py",
      "mimetype": "text/x-python",
      "name": "python",
      "nbconvert_exporter": "python",
      "pygments_lexer": "ipython3",
      "version": "3.7.6"
    },
    "colab": {
      "provenance": [],
      "collapsed_sections": []
    },
    "accelerator": "GPU",
    "gpuClass": "standard"
  },
  "nbformat": 4,
  "nbformat_minor": 0
}