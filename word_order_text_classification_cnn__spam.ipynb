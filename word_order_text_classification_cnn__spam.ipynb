{
  "cells": [
    {
      "cell_type": "markdown",
      "metadata": {
        "id": "uU34v-ODxGm-"
      },
      "source": [
        "Effective Use of Word Order for Text Categorization with Convolutional Neural Networks\n",
        " \n",
        "https://arxiv.org/abs/1412.1058\n",
        "\n"
      ]
    },
    {
      "cell_type": "code",
      "source": [
        "pip install birdseye "
      ],
      "metadata": {
        "colab": {
          "base_uri": "https://localhost:8080/"
        },
        "id": "TGr5haAFxtFO",
        "outputId": "9309e8ae-f3ad-4c7e-dfc6-ed588372847a"
      },
      "execution_count": 1,
      "outputs": [
        {
          "output_type": "stream",
          "name": "stdout",
          "text": [
            "Looking in indexes: https://pypi.org/simple, https://us-python.pkg.dev/colab-wheels/public/simple/\n",
            "Collecting birdseye\n",
            "  Downloading birdseye-0.9.4-py2.py3-none-any.whl (716 kB)\n",
            "\u001b[K     |████████████████████████████████| 716 kB 19.5 MB/s \n",
            "\u001b[?25hCollecting outdated\n",
            "  Downloading outdated-0.2.2-py2.py3-none-any.whl (7.5 kB)\n",
            "Collecting flask-humanize\n",
            "  Downloading Flask-Humanize-0.3.0.tar.gz (5.9 kB)\n",
            "Requirement already satisfied: sqlalchemy in /usr/local/lib/python3.7/dist-packages (from birdseye) (1.4.42)\n",
            "Requirement already satisfied: cached-property in /usr/local/lib/python3.7/dist-packages (from birdseye) (1.5.2)\n",
            "Collecting cheap-repr\n",
            "  Downloading cheap_repr-0.5.1-py2.py3-none-any.whl (12 kB)\n",
            "Collecting littleutils>=0.2\n",
            "  Downloading littleutils-0.2.2.tar.gz (6.6 kB)\n",
            "Requirement already satisfied: Flask in /usr/local/lib/python3.7/dist-packages (from birdseye) (1.1.4)\n",
            "Collecting asttokens\n",
            "  Downloading asttokens-2.1.0-py2.py3-none-any.whl (26 kB)\n",
            "Requirement already satisfied: six in /usr/local/lib/python3.7/dist-packages (from asttokens->birdseye) (1.15.0)\n",
            "Requirement already satisfied: Werkzeug<2.0,>=0.15 in /usr/local/lib/python3.7/dist-packages (from Flask->birdseye) (1.0.1)\n",
            "Requirement already satisfied: itsdangerous<2.0,>=0.24 in /usr/local/lib/python3.7/dist-packages (from Flask->birdseye) (1.1.0)\n",
            "Requirement already satisfied: click<8.0,>=5.1 in /usr/local/lib/python3.7/dist-packages (from Flask->birdseye) (7.1.2)\n",
            "Requirement already satisfied: Jinja2<3.0,>=2.10.1 in /usr/local/lib/python3.7/dist-packages (from Flask->birdseye) (2.11.3)\n",
            "Requirement already satisfied: MarkupSafe>=0.23 in /usr/local/lib/python3.7/dist-packages (from Jinja2<3.0,>=2.10.1->Flask->birdseye) (2.0.1)\n",
            "Requirement already satisfied: humanize>=0.5.1 in /usr/local/lib/python3.7/dist-packages (from flask-humanize->birdseye) (0.5.1)\n",
            "Requirement already satisfied: setuptools>=44 in /usr/local/lib/python3.7/dist-packages (from outdated->birdseye) (57.4.0)\n",
            "Requirement already satisfied: requests in /usr/local/lib/python3.7/dist-packages (from outdated->birdseye) (2.23.0)\n",
            "Requirement already satisfied: urllib3!=1.25.0,!=1.25.1,<1.26,>=1.21.1 in /usr/local/lib/python3.7/dist-packages (from requests->outdated->birdseye) (1.24.3)\n",
            "Requirement already satisfied: certifi>=2017.4.17 in /usr/local/lib/python3.7/dist-packages (from requests->outdated->birdseye) (2022.9.24)\n",
            "Requirement already satisfied: chardet<4,>=3.0.2 in /usr/local/lib/python3.7/dist-packages (from requests->outdated->birdseye) (3.0.4)\n",
            "Requirement already satisfied: idna<3,>=2.5 in /usr/local/lib/python3.7/dist-packages (from requests->outdated->birdseye) (2.10)\n",
            "Requirement already satisfied: greenlet!=0.4.17 in /usr/local/lib/python3.7/dist-packages (from sqlalchemy->birdseye) (2.0.0.post0)\n",
            "Requirement already satisfied: importlib-metadata in /usr/local/lib/python3.7/dist-packages (from sqlalchemy->birdseye) (4.13.0)\n",
            "Requirement already satisfied: zipp>=0.5 in /usr/local/lib/python3.7/dist-packages (from importlib-metadata->sqlalchemy->birdseye) (3.10.0)\n",
            "Requirement already satisfied: typing-extensions>=3.6.4 in /usr/local/lib/python3.7/dist-packages (from importlib-metadata->sqlalchemy->birdseye) (4.1.1)\n",
            "Building wheels for collected packages: littleutils, flask-humanize\n",
            "  Building wheel for littleutils (setup.py) ... \u001b[?25l\u001b[?25hdone\n",
            "  Created wheel for littleutils: filename=littleutils-0.2.2-py3-none-any.whl size=7047 sha256=dae022833d341e96895962d1e8d7ce255e447a2880a44b0564a0803167e4fb11\n",
            "  Stored in directory: /root/.cache/pip/wheels/d6/64/cd/32819b511a488e4993f2fab909a95330289c3f4e0f6ef4676d\n",
            "  Building wheel for flask-humanize (setup.py) ... \u001b[?25l\u001b[?25hdone\n",
            "  Created wheel for flask-humanize: filename=Flask_Humanize-0.3.0-py3-none-any.whl size=3642 sha256=621a490d97746f3fb0d63ec18ac2459688aa42e6f39303244b75a1d41b7e1c0b\n",
            "  Stored in directory: /root/.cache/pip/wheels/02/92/82/b38683844f7d77443b1e9d89e61898c5de0683412b597d90f5\n",
            "Successfully built littleutils flask-humanize\n",
            "Installing collected packages: littleutils, outdated, flask-humanize, cheap-repr, asttokens, birdseye\n",
            "Successfully installed asttokens-2.1.0 birdseye-0.9.4 cheap-repr-0.5.1 flask-humanize-0.3.0 littleutils-0.2.2 outdated-0.2.2\n"
          ]
        }
      ]
    },
    {
      "cell_type": "code",
      "source": [
        "!pip install tensorflow==1.14.0"
      ],
      "metadata": {
        "colab": {
          "base_uri": "https://localhost:8080/"
        },
        "id": "2avqnjAFdPHw",
        "outputId": "e708fd6a-29a6-441a-81cb-34e613f764b7"
      },
      "execution_count": 2,
      "outputs": [
        {
          "output_type": "stream",
          "name": "stdout",
          "text": [
            "Looking in indexes: https://pypi.org/simple, https://us-python.pkg.dev/colab-wheels/public/simple/\n",
            "Collecting tensorflow==1.14.0\n",
            "  Downloading tensorflow-1.14.0-cp37-cp37m-manylinux1_x86_64.whl (109.3 MB)\n",
            "\u001b[K     |████████████████████████████████| 109.3 MB 50 kB/s \n",
            "\u001b[?25hRequirement already satisfied: absl-py>=0.7.0 in /usr/local/lib/python3.7/dist-packages (from tensorflow==1.14.0) (1.3.0)\n",
            "Requirement already satisfied: numpy<2.0,>=1.14.5 in /usr/local/lib/python3.7/dist-packages (from tensorflow==1.14.0) (1.21.6)\n",
            "Requirement already satisfied: grpcio>=1.8.6 in /usr/local/lib/python3.7/dist-packages (from tensorflow==1.14.0) (1.50.0)\n",
            "Collecting tensorflow-estimator<1.15.0rc0,>=1.14.0rc0\n",
            "  Downloading tensorflow_estimator-1.14.0-py2.py3-none-any.whl (488 kB)\n",
            "\u001b[K     |████████████████████████████████| 488 kB 38.9 MB/s \n",
            "\u001b[?25hRequirement already satisfied: google-pasta>=0.1.6 in /usr/local/lib/python3.7/dist-packages (from tensorflow==1.14.0) (0.2.0)\n",
            "Requirement already satisfied: six>=1.10.0 in /usr/local/lib/python3.7/dist-packages (from tensorflow==1.14.0) (1.15.0)\n",
            "Requirement already satisfied: gast>=0.2.0 in /usr/local/lib/python3.7/dist-packages (from tensorflow==1.14.0) (0.4.0)\n",
            "Collecting tensorboard<1.15.0,>=1.14.0\n",
            "  Downloading tensorboard-1.14.0-py3-none-any.whl (3.1 MB)\n",
            "\u001b[K     |████████████████████████████████| 3.1 MB 14.3 MB/s \n",
            "\u001b[?25hRequirement already satisfied: termcolor>=1.1.0 in /usr/local/lib/python3.7/dist-packages (from tensorflow==1.14.0) (2.1.0)\n",
            "Requirement already satisfied: wrapt>=1.11.1 in /usr/local/lib/python3.7/dist-packages (from tensorflow==1.14.0) (1.14.1)\n",
            "Requirement already satisfied: keras-preprocessing>=1.0.5 in /usr/local/lib/python3.7/dist-packages (from tensorflow==1.14.0) (1.1.2)\n",
            "Requirement already satisfied: protobuf>=3.6.1 in /usr/local/lib/python3.7/dist-packages (from tensorflow==1.14.0) (3.17.3)\n",
            "Requirement already satisfied: astor>=0.6.0 in /usr/local/lib/python3.7/dist-packages (from tensorflow==1.14.0) (0.8.1)\n",
            "Requirement already satisfied: wheel>=0.26 in /usr/local/lib/python3.7/dist-packages (from tensorflow==1.14.0) (0.38.1)\n",
            "Collecting keras-applications>=1.0.6\n",
            "  Downloading Keras_Applications-1.0.8-py3-none-any.whl (50 kB)\n",
            "\u001b[K     |████████████████████████████████| 50 kB 7.2 MB/s \n",
            "\u001b[?25hRequirement already satisfied: h5py in /usr/local/lib/python3.7/dist-packages (from keras-applications>=1.0.6->tensorflow==1.14.0) (3.1.0)\n",
            "Requirement already satisfied: markdown>=2.6.8 in /usr/local/lib/python3.7/dist-packages (from tensorboard<1.15.0,>=1.14.0->tensorflow==1.14.0) (3.4.1)\n",
            "Requirement already satisfied: werkzeug>=0.11.15 in /usr/local/lib/python3.7/dist-packages (from tensorboard<1.15.0,>=1.14.0->tensorflow==1.14.0) (1.0.1)\n",
            "Requirement already satisfied: setuptools>=41.0.0 in /usr/local/lib/python3.7/dist-packages (from tensorboard<1.15.0,>=1.14.0->tensorflow==1.14.0) (57.4.0)\n",
            "Requirement already satisfied: importlib-metadata>=4.4 in /usr/local/lib/python3.7/dist-packages (from markdown>=2.6.8->tensorboard<1.15.0,>=1.14.0->tensorflow==1.14.0) (4.13.0)\n",
            "Requirement already satisfied: zipp>=0.5 in /usr/local/lib/python3.7/dist-packages (from importlib-metadata>=4.4->markdown>=2.6.8->tensorboard<1.15.0,>=1.14.0->tensorflow==1.14.0) (3.10.0)\n",
            "Requirement already satisfied: typing-extensions>=3.6.4 in /usr/local/lib/python3.7/dist-packages (from importlib-metadata>=4.4->markdown>=2.6.8->tensorboard<1.15.0,>=1.14.0->tensorflow==1.14.0) (4.1.1)\n",
            "Requirement already satisfied: cached-property in /usr/local/lib/python3.7/dist-packages (from h5py->keras-applications>=1.0.6->tensorflow==1.14.0) (1.5.2)\n",
            "Installing collected packages: tensorflow-estimator, tensorboard, keras-applications, tensorflow\n",
            "  Attempting uninstall: tensorflow-estimator\n",
            "    Found existing installation: tensorflow-estimator 2.9.0\n",
            "    Uninstalling tensorflow-estimator-2.9.0:\n",
            "      Successfully uninstalled tensorflow-estimator-2.9.0\n",
            "  Attempting uninstall: tensorboard\n",
            "    Found existing installation: tensorboard 2.9.1\n",
            "    Uninstalling tensorboard-2.9.1:\n",
            "      Successfully uninstalled tensorboard-2.9.1\n",
            "  Attempting uninstall: tensorflow\n",
            "    Found existing installation: tensorflow 2.9.2\n",
            "    Uninstalling tensorflow-2.9.2:\n",
            "      Successfully uninstalled tensorflow-2.9.2\n",
            "\u001b[31mERROR: pip's dependency resolver does not currently take into account all the packages that are installed. This behaviour is the source of the following dependency conflicts.\n",
            "kapre 0.3.7 requires tensorflow>=2.0.0, but you have tensorflow 1.14.0 which is incompatible.\u001b[0m\n",
            "Successfully installed keras-applications-1.0.8 tensorboard-1.14.0 tensorflow-1.14.0 tensorflow-estimator-1.14.0\n"
          ]
        }
      ]
    },
    {
      "cell_type": "code",
      "execution_count": 3,
      "metadata": {
        "id": "KoZiD5etxGnA"
      },
      "outputs": [],
      "source": [
        "%load_ext birdseye\n",
        "%config BirdsEyeMagics.port = 7778"
      ]
    },
    {
      "cell_type": "code",
      "execution_count": 4,
      "metadata": {
        "id": "4LsIB0N6xGnC"
      },
      "outputs": [],
      "source": [
        "import tarfile,os,sys, re\n",
        "is_eager_exec_init=False\n",
        "import psutil"
      ]
    },
    {
      "cell_type": "code",
      "execution_count": 5,
      "metadata": {
        "colab": {
          "base_uri": "https://localhost:8080/"
        },
        "id": "cxIo6VE4xGnC",
        "outputId": "0729bf71-8f94-447c-bdf5-00981ef2858e"
      },
      "outputs": [
        {
          "output_type": "stream",
          "name": "stderr",
          "text": [
            "/usr/local/lib/python3.7/dist-packages/tensorflow/python/framework/dtypes.py:516: FutureWarning: Passing (type, 1) or '1type' as a synonym of type is deprecated; in a future version of numpy, it will be understood as (type, (1,)) / '(1,)type'.\n",
            "  _np_qint8 = np.dtype([(\"qint8\", np.int8, 1)])\n",
            "/usr/local/lib/python3.7/dist-packages/tensorflow/python/framework/dtypes.py:517: FutureWarning: Passing (type, 1) or '1type' as a synonym of type is deprecated; in a future version of numpy, it will be understood as (type, (1,)) / '(1,)type'.\n",
            "  _np_quint8 = np.dtype([(\"quint8\", np.uint8, 1)])\n",
            "/usr/local/lib/python3.7/dist-packages/tensorflow/python/framework/dtypes.py:518: FutureWarning: Passing (type, 1) or '1type' as a synonym of type is deprecated; in a future version of numpy, it will be understood as (type, (1,)) / '(1,)type'.\n",
            "  _np_qint16 = np.dtype([(\"qint16\", np.int16, 1)])\n",
            "/usr/local/lib/python3.7/dist-packages/tensorflow/python/framework/dtypes.py:519: FutureWarning: Passing (type, 1) or '1type' as a synonym of type is deprecated; in a future version of numpy, it will be understood as (type, (1,)) / '(1,)type'.\n",
            "  _np_quint16 = np.dtype([(\"quint16\", np.uint16, 1)])\n",
            "/usr/local/lib/python3.7/dist-packages/tensorflow/python/framework/dtypes.py:520: FutureWarning: Passing (type, 1) or '1type' as a synonym of type is deprecated; in a future version of numpy, it will be understood as (type, (1,)) / '(1,)type'.\n",
            "  _np_qint32 = np.dtype([(\"qint32\", np.int32, 1)])\n",
            "/usr/local/lib/python3.7/dist-packages/tensorflow/python/framework/dtypes.py:525: FutureWarning: Passing (type, 1) or '1type' as a synonym of type is deprecated; in a future version of numpy, it will be understood as (type, (1,)) / '(1,)type'.\n",
            "  np_resource = np.dtype([(\"resource\", np.ubyte, 1)])\n",
            "/usr/local/lib/python3.7/dist-packages/tensorboard/compat/tensorflow_stub/dtypes.py:541: FutureWarning: Passing (type, 1) or '1type' as a synonym of type is deprecated; in a future version of numpy, it will be understood as (type, (1,)) / '(1,)type'.\n",
            "  _np_qint8 = np.dtype([(\"qint8\", np.int8, 1)])\n",
            "/usr/local/lib/python3.7/dist-packages/tensorboard/compat/tensorflow_stub/dtypes.py:542: FutureWarning: Passing (type, 1) or '1type' as a synonym of type is deprecated; in a future version of numpy, it will be understood as (type, (1,)) / '(1,)type'.\n",
            "  _np_quint8 = np.dtype([(\"quint8\", np.uint8, 1)])\n",
            "/usr/local/lib/python3.7/dist-packages/tensorboard/compat/tensorflow_stub/dtypes.py:543: FutureWarning: Passing (type, 1) or '1type' as a synonym of type is deprecated; in a future version of numpy, it will be understood as (type, (1,)) / '(1,)type'.\n",
            "  _np_qint16 = np.dtype([(\"qint16\", np.int16, 1)])\n",
            "/usr/local/lib/python3.7/dist-packages/tensorboard/compat/tensorflow_stub/dtypes.py:544: FutureWarning: Passing (type, 1) or '1type' as a synonym of type is deprecated; in a future version of numpy, it will be understood as (type, (1,)) / '(1,)type'.\n",
            "  _np_quint16 = np.dtype([(\"quint16\", np.uint16, 1)])\n",
            "/usr/local/lib/python3.7/dist-packages/tensorboard/compat/tensorflow_stub/dtypes.py:545: FutureWarning: Passing (type, 1) or '1type' as a synonym of type is deprecated; in a future version of numpy, it will be understood as (type, (1,)) / '(1,)type'.\n",
            "  _np_qint32 = np.dtype([(\"qint32\", np.int32, 1)])\n",
            "/usr/local/lib/python3.7/dist-packages/tensorboard/compat/tensorflow_stub/dtypes.py:550: FutureWarning: Passing (type, 1) or '1type' as a synonym of type is deprecated; in a future version of numpy, it will be understood as (type, (1,)) / '(1,)type'.\n",
            "  np_resource = np.dtype([(\"resource\", np.ubyte, 1)])\n"
          ]
        }
      ],
      "source": [
        "import numpy as np\n",
        "import tensorflow as tf\n",
        "import pickle\n",
        "import sklearn\n",
        "\n",
        "# Use spacy to remove stop words first\n",
        "import spacy\n",
        "\n",
        "nlp = spacy.load('en_core_web_sm')"
      ]
    },
    {
      "cell_type": "code",
      "source": [
        "pip install memory_profiler"
      ],
      "metadata": {
        "colab": {
          "base_uri": "https://localhost:8080/"
        },
        "id": "VBNqCN6ayrSB",
        "outputId": "bc93bda5-be23-4ec9-d213-0e51c91a5466"
      },
      "execution_count": 6,
      "outputs": [
        {
          "output_type": "stream",
          "name": "stdout",
          "text": [
            "Looking in indexes: https://pypi.org/simple, https://us-python.pkg.dev/colab-wheels/public/simple/\n",
            "Collecting memory_profiler\n",
            "  Downloading memory_profiler-0.60.0.tar.gz (38 kB)\n",
            "Requirement already satisfied: psutil in /usr/local/lib/python3.7/dist-packages (from memory_profiler) (5.4.8)\n",
            "Building wheels for collected packages: memory-profiler\n",
            "  Building wheel for memory-profiler (setup.py) ... \u001b[?25l\u001b[?25hdone\n",
            "  Created wheel for memory-profiler: filename=memory_profiler-0.60.0-py3-none-any.whl size=31285 sha256=8da2a4653b8ecb603b1e147f5073438eaba184d6de02a70fab8a031a8fdb1189\n",
            "  Stored in directory: /root/.cache/pip/wheels/67/2b/fb/326e30d638c538e69a5eb0aa47f4223d979f502bbdb403950f\n",
            "Successfully built memory-profiler\n",
            "Installing collected packages: memory-profiler\n",
            "Successfully installed memory-profiler-0.60.0\n"
          ]
        }
      ]
    },
    {
      "cell_type": "code",
      "execution_count": 7,
      "metadata": {
        "colab": {
          "base_uri": "https://localhost:8080/"
        },
        "id": "mmZOzdv9xGnD",
        "outputId": "40396958-94ae-49a4-f957-cfc4a3b7c5d0"
      },
      "outputs": [
        {
          "output_type": "stream",
          "name": "stdout",
          "text": [
            "peak memory: 838.14 MiB, increment: 0.00 MiB\n"
          ]
        }
      ],
      "source": [
        "%load_ext memory_profiler\n",
        "%memit"
      ]
    },
    {
      "cell_type": "markdown",
      "metadata": {
        "id": "SU1C4a_HxGnE"
      },
      "source": [
        "Setup different variables in order to be able to reuse \n",
        "- data loading\n",
        "- data preparation steps later on when setting up the model. (defined later on) "
      ]
    },
    {
      "cell_type": "code",
      "execution_count": 8,
      "metadata": {
        "id": "mTQJQnyvxGnE"
      },
      "outputs": [],
      "source": [
        "is_data_already_loaded = False"
      ]
    },
    {
      "cell_type": "markdown",
      "metadata": {
        "id": "wrgcPHYxxGnF"
      },
      "source": [
        "\n",
        "imdb dataset should be stored in /datasets dir."
      ]
    },
    {
      "cell_type": "code",
      "execution_count": null,
      "metadata": {
        "id": "wTjNPUGvxGnF"
      },
      "outputs": [],
      "source": [
        "'''\n",
        "if not is_data_already_loaded:\n",
        "    test_neg_files = []\n",
        "    test_pos_files = []\n",
        "    train_neg_files = []\n",
        "    train_pos_files = []\n",
        "\n",
        "    with tarfile.open('/content/aclImdb_v1.tar.gz') as tar:\n",
        "        for mbr in tar.getmembers():\n",
        "            matches = re.findall('/test/neg/.*\\.txt',mbr.name)\n",
        "            if len(matches)==1:\n",
        "                f=tar.extractfile(mbr)\n",
        "                content=f.read()        \n",
        "                test_neg_files.append((mbr,content))\n",
        "            matches = re.findall('/test/pos/.*\\.txt',mbr.name)\n",
        "            if len(matches)==1:\n",
        "                f=tar.extractfile(mbr)\n",
        "                content=f.read()  \n",
        "                test_pos_files.append((mbr, content))\n",
        "            matches = re.findall('/train/neg/.*\\.txt',mbr.name)\n",
        "            if len(matches)==1:\n",
        "                f=tar.extractfile(mbr)\n",
        "                content=f.read()        \n",
        "                train_neg_files.append((mbr,content))\n",
        "            matches = re.findall('/train/pos/.*\\.txt',mbr.name)\n",
        "            if len(matches)==1:\n",
        "                f=tar.extractfile(mbr)\n",
        "                content=f.read()  \n",
        "                train_pos_files.append((mbr, content))\n",
        "'''"
      ]
    },
    {
      "cell_type": "code",
      "execution_count": 8,
      "metadata": {
        "id": "QPe-HjKAxGnG",
        "colab": {
          "base_uri": "https://localhost:8080/",
          "height": 54
        },
        "outputId": "c452c2ce-0dd2-4b88-9f86-f37c3890c7e3"
      },
      "outputs": [
        {
          "output_type": "execute_result",
          "data": {
            "text/plain": [
              "'\\nif not is_data_already_loaded:\\n    train_neg = [txt.decode(\"utf-8\")  for file,txt in train_neg_files]\\n    train_pos = [txt.decode(\"utf-8\")  for file,txt in train_pos_files]\\n\\n    test_neg = [txt.decode(\"utf-8\")  for file,txt in test_neg_files]\\n    test_pos = [txt.decode(\"utf-8\")  for file,txt in test_pos_files]\\n    '"
            ],
            "application/vnd.google.colaboratory.intrinsic+json": {
              "type": "string"
            }
          },
          "metadata": {},
          "execution_count": 8
        }
      ],
      "source": [
        "'''\n",
        "if not is_data_already_loaded:\n",
        "    train_neg = [txt.decode(\"utf-8\")  for file,txt in train_neg_files]\n",
        "    train_pos = [txt.decode(\"utf-8\")  for file,txt in train_pos_files]\n",
        "\n",
        "    test_neg = [txt.decode(\"utf-8\")  for file,txt in test_neg_files]\n",
        "    test_pos = [txt.decode(\"utf-8\")  for file,txt in test_pos_files]\n",
        "    '''"
      ]
    },
    {
      "cell_type": "code",
      "source": [
        "import pandas as pd\n",
        "datasource=pd.read_csv('/content/spam_train.csv')\n",
        "source_data=[]\n",
        "Label_data=[]\n",
        "for index, row in datasource.iterrows():\n",
        "  source_data.append(row['data'])\n",
        "  Label_data.append(row['b_labels'])"
      ],
      "metadata": {
        "id": "jzwuSXfLT7nx"
      },
      "execution_count": 30,
      "outputs": []
    },
    {
      "cell_type": "code",
      "source": [
        "datasourc_test=pd.read_csv('/content/spam_test.csv')\n",
        "test_data=[]\n",
        "Label_test=[]\n",
        "for index, row in datasourc_test.iterrows():\n",
        "  test_data.append(row['data'])\n",
        "  Label_test.append(row['b_labels'])"
      ],
      "metadata": {
        "id": "17zkyei3TMMu"
      },
      "execution_count": 31,
      "outputs": []
    },
    {
      "cell_type": "code",
      "source": [
        "print(Label_test)"
      ],
      "metadata": {
        "colab": {
          "base_uri": "https://localhost:8080/"
        },
        "id": "G_jtqYN7UBvL",
        "outputId": "c37e1ea1-bc3d-4b19-ec39-80a862787705"
      },
      "execution_count": 34,
      "outputs": [
        {
          "output_type": "stream",
          "name": "stdout",
          "text": [
            "[0, 0, 0, 0, 0, 0, 0, 1, 0, 0, 0, 0, 0, 0, 0, 0, 0, 0, 1, 1, 0, 0, 0, 0, 0, 1, 0, 0, 0, 1, 1, 0, 0, 0, 1, 0, 0, 0, 0, 0, 0, 0, 0, 1, 0, 0, 0, 0, 0, 0, 0, 0, 0, 0, 0, 0, 0, 1, 0, 0, 0, 1, 0, 0, 0, 0, 1, 0, 0, 0, 0, 0, 0, 0, 0, 0, 0, 0, 0, 1, 0, 0, 0, 0, 0, 0, 0, 0, 0, 0, 0, 0, 0, 0, 0, 0, 0, 0, 1, 0, 0, 0, 0, 0, 0, 0, 0, 1, 0, 0, 0, 0, 0, 0, 1, 0, 0, 0, 0, 0, 0, 1, 0, 1, 0, 0, 0, 0, 0, 0, 0, 0, 0, 0, 0, 0, 0, 0, 0, 0, 0, 0, 0, 1, 0, 0, 0, 0, 0, 0, 0, 0, 0, 0, 0, 0, 0, 0, 0, 0, 0, 0, 0, 0, 0, 0, 0, 0, 0, 0, 0, 1, 0, 0, 0, 0, 0, 0, 0, 0, 0, 0, 0, 0, 0, 0, 0, 0, 0, 0, 0, 0, 0, 1, 1, 1, 0, 1, 0, 1, 0, 0, 0, 0, 0, 0, 1, 1, 0, 0, 1, 0, 0, 0, 0, 0, 0, 0, 0, 0, 0, 0, 0, 0, 0, 0, 0, 0, 0, 0, 0, 0, 0, 0, 0, 0, 0, 0, 0, 0, 0, 0, 0, 0, 0, 0, 0, 0, 0, 0, 0, 0, 0, 0, 0, 0, 1, 0, 0, 0, 0, 0, 0, 0, 0, 0, 0, 0, 0, 0, 0, 0, 1, 0, 0, 0, 0, 0, 1, 0, 0, 0, 0, 0, 0, 1, 0, 0, 0, 1, 0, 1, 0, 0, 0, 1, 1, 1, 0, 0, 0, 0, 0, 0, 0, 0, 0, 0, 0, 0, 0, 1, 0, 0, 0, 0, 1, 0, 0, 0, 0, 1, 0, 0, 0, 0, 1, 0, 0, 0, 1, 0, 0, 0, 0, 0, 0, 0, 0, 0, 0, 0, 0, 0, 0, 0, 0, 0, 0, 0, 0, 0, 0, 1, 0, 1, 0, 0, 0, 0, 0, 0, 0, 0, 0, 0, 1, 0, 0, 1, 0, 0, 0, 0, 0, 0, 1, 0, 0, 0, 0, 0, 0, 0, 0, 0, 0, 0, 0, 0, 0, 0, 0, 0, 0, 1, 1, 0, 0, 0, 0]\n"
          ]
        }
      ]
    },
    {
      "cell_type": "code",
      "execution_count": 35,
      "metadata": {
        "id": "F8iPRZZ7xGnH"
      },
      "outputs": [],
      "source": [
        "vocab_nb = 20000\n",
        "\n",
        "def clean_docs(docs):\n",
        "    # clean docs by:\n",
        "    # - removing stop words\n",
        "    docs_wtho_stop = []\n",
        "    for raw_doc in docs:\n",
        "        doc = nlp(raw_doc)\n",
        "        doc_wtho_stop = \"\"\n",
        "        for tok in doc:\n",
        "            if not tok.is_stop:\n",
        "                doc_wtho_stop = doc_wtho_stop +tok.text+ \" \"\n",
        "        docs_wtho_stop.append(doc_wtho_stop)\n",
        "    return docs_wtho_stop"
      ]
    },
    {
      "cell_type": "code",
      "execution_count": 36,
      "metadata": {
        "id": "Dr26mwJCxGnH"
      },
      "outputs": [],
      "source": [
        "from tensorflow.keras.preprocessing.text import Tokenizer, one_hot\n",
        "#from tensorflow.keras.backend import one_hot, get_session, set_session\n",
        "from tensorflow.compat.v1.keras.backend import set_session, one_hot, get_session\n",
        "from tensorflow.keras.models import Sequential\n",
        "from tensorflow.keras.layers import Dense, Conv1D,MaxPool1D, Activation, Flatten, Dropout, BatchNormalization\n",
        "from tensorflow.keras.callbacks import TensorBoard, EarlyStopping, ReduceLROnPlateau\n",
        "from tensorflow.keras.regularizers import l2, l1\n",
        "from tensorflow.keras.utils import to_categorical\n",
        "from tensorflow.keras.optimizers import RMSprop, SGD\n"
      ]
    },
    {
      "cell_type": "code",
      "source": [
        "config = tf.compat.v1.ConfigProto()\n",
        "config.gpu_options.allow_growth = True  # dynamically grow the memory used on the GPU\n",
        "config.log_device_placement = True  # to log device placement (on which device the operation ran) \n",
        "# (nothing gets printed in Jupyter, only if you run it standalone)\n",
        "sess = tf.compat.v1.Session(config=config)\n",
        "set_session(sess)"
      ],
      "metadata": {
        "id": "ASfNyF7t25ah"
      },
      "execution_count": 37,
      "outputs": []
    },
    {
      "cell_type": "code",
      "execution_count": 38,
      "metadata": {
        "id": "-YEFMBogxGnH"
      },
      "outputs": [],
      "source": [
        "def docs_to_sequences(docs, vocab_nb=20000, max_length=None):\n",
        "    # create the tokenizer\n",
        "    t = Tokenizer(num_words=vocab_nb)\n",
        "    # fit the tokenizer on the documents\n",
        "    t.fit_on_texts(docs)\n",
        "    # create each doc as a list of integer indices\n",
        "    docs_seq_int = t.texts_to_sequences(docs)\n",
        "   # print(docs_seq_int)\n",
        "    \n",
        "    \n",
        "    doc_nb = len(docs_seq_int)\n",
        "    if max_length==None:\n",
        "        max_length = len(sorted(docs_seq_int,key=len, reverse=True)[0])\n",
        "        #print(\"max_lenght computed:\",max_length)\n",
        "    #print(\"max_length:\",max_length)\n",
        "    \n",
        "    # Create a dense array of shape (doc_nb,max_length). \n",
        "    # Each cell contains a int (the indice of word)\n",
        "    \n",
        "    docs_seq_dense = []\n",
        "    docs_seq_array = np.zeros((doc_nb,max_length),dtype=np.int16)\n",
        "    for idx, seq_int in enumerate(docs_seq_int):\n",
        "        padded_seq_int = seq_int+[0]*(max_length-len(seq_int))\n",
        "        doc_array = np.array(padded_seq_int, dtype=np.int16)\n",
        "        docs_seq_array[idx]=doc_array[:max_length]\n",
        "\n",
        "    return docs_seq_array\n",
        "    "
      ]
    },
    {
      "cell_type": "code",
      "execution_count": 39,
      "metadata": {
        "id": "5e7UWlppxGnI"
      },
      "outputs": [],
      "source": [
        "def categorical_generator(X, y, batch_size=64,vocab_nb=20000):\n",
        "    # Must be able to iterate many times on the same X/y , for instance while training with many epochs.\n",
        "    i=0\n",
        "    while True:\n",
        "        #print(i)\n",
        "       # print(i)\n",
        "        if i >= len(X):\n",
        "            i=0\n",
        "        tmp_X = X[i:batch_size+i]\n",
        "        #print(tmp_X)\n",
        "        batch_X= to_categorical(tmp_X,num_classes=vocab_nb)\n",
        "        #print(batch_X)\n",
        "        batch_y = y[i:batch_size+i]\n",
        "        #print(\"cat gen: \", len(batch_X), len(batch_y))\n",
        "        yield batch_X, batch_y\n",
        "        i+=batch_size       "
      ]
    },
    {
      "cell_type": "markdown",
      "metadata": {
        "id": "m2OKB0rIxGnI"
      },
      "source": [
        "## Toy Test data preparation\n",
        "\n",
        "Data preparation logic is tested on a very small toy data set.\n"
      ]
    },
    {
      "cell_type": "code",
      "execution_count": 40,
      "metadata": {
        "colab": {
          "base_uri": "https://localhost:8080/"
        },
        "id": "WBYBIvJwxGnI",
        "outputId": "bd176d1f-a6ef-4a77-83a4-e01c3568583e"
      },
      "outputs": [
        {
          "output_type": "stream",
          "name": "stdout",
          "text": [
            "[[ 0  0  0  0  0  0  0  0]\n",
            " [ 5  6  5  2  0  0  0  0]\n",
            " [ 7  2 10  0  0  0  0  0]\n",
            " [11  6  1  0  0  0  0  0]\n",
            " [12  3  1  0  0  0  0  0]\n",
            " [ 4  3  0  0  0  0  0  0]\n",
            " [13  0  0  0  0  0  0  0]\n",
            " [ 4  8  0  0  0  0  0  0]\n",
            " [14  2  1 15 16  7  3  9]\n",
            " [ 9  1  0  0  0  0  0  0]\n",
            " [17 18  4  8  0  0  0  0]]\n"
          ]
        }
      ],
      "source": [
        "do_toy_test=True\n",
        "\n",
        "if do_toy_test:\n",
        "    toy_vocab_nb = 20\n",
        "    toy_max_sent_len = 8\n",
        "  \n",
        "    docs = ['Well done!',\n",
        "            'Good work, good effort',\n",
        "            'Great effort guys',\n",
        "            'nice work my friend',\n",
        "            'Excellent job my friend!',\n",
        "            'What a poor job !! ',\n",
        "            'This is a shame',\n",
        "            'You are a poor guy',\n",
        "            'Fantastic effort my friend and brother, hell of a great job for ever I like it',\n",
        "            'I like you so much my friend',\n",
        "            'You worked so bad poor guy']\n",
        "\n",
        "    cleaned_docs = clean_docs(docs)\n",
        "    #print(cleaned_docs)\n",
        "    doc_sequences = docs_to_sequences(cleaned_docs, max_length=toy_max_sent_len, vocab_nb=toy_vocab_nb)\n",
        "    print(doc_sequences)\n",
        "    #print(type(doc_sequences))\n",
        "    np.save(\"./tst\",doc_sequences)\n",
        "    tmp_array = np.load(\"./tst.npy\")\n",
        "    #print(tmp_array)\n",
        "    \n",
        "    labels=[1,1,0,1,1,0,0,0,1,0,1]\n",
        "#%memit"
      ]
    },
    {
      "cell_type": "code",
      "source": [
        "print(doc_sequences)"
      ],
      "metadata": {
        "colab": {
          "base_uri": "https://localhost:8080/"
        },
        "id": "UR4NIJ03K1eR",
        "outputId": "94f2f997-3bc8-4372-83c6-2fdbf15bbd91"
      },
      "execution_count": 41,
      "outputs": [
        {
          "output_type": "stream",
          "name": "stdout",
          "text": [
            "[[ 0  0  0  0  0  0  0  0]\n",
            " [ 5  6  5  2  0  0  0  0]\n",
            " [ 7  2 10  0  0  0  0  0]\n",
            " [11  6  1  0  0  0  0  0]\n",
            " [12  3  1  0  0  0  0  0]\n",
            " [ 4  3  0  0  0  0  0  0]\n",
            " [13  0  0  0  0  0  0  0]\n",
            " [ 4  8  0  0  0  0  0  0]\n",
            " [14  2  1 15 16  7  3  9]\n",
            " [ 9  1  0  0  0  0  0  0]\n",
            " [17 18  4  8  0  0  0  0]]\n"
          ]
        }
      ]
    },
    {
      "cell_type": "code",
      "execution_count": 42,
      "metadata": {
        "id": "ugmNUyAsxGnJ"
      },
      "outputs": [],
      "source": [
        "if do_toy_test:\n",
        "    #print(doc_sequences,labels)\n",
        "    toy_batch_size=2\n",
        "    nb_iter=doc_sequences.shape[0] // toy_batch_size\n",
        "    j=0\n",
        "    nb_epoch=0\n",
        "    for batch_x, batch_y in categorical_generator(doc_sequences,labels,batch_size=toy_batch_size,vocab_nb=toy_vocab_nb):\n",
        "       # print(type(batch_x),batch_x.shape)\n",
        "        #print(batch_y)\n",
        "        #print(batch_x)\n",
        "        assert (len(batch_x)<=toy_batch_size) & (len(batch_y) <=toy_batch_size)\n",
        "        #print(nb_epoch,j,nb_iter)\n",
        "        if j > nb_iter:\n",
        "            j=0\n",
        "            nb_epoch+=1\n",
        " #       if batch_x.shape[0]<test_batch_size:\n",
        " #           nb_epoch+=1\n",
        "        if nb_epoch ==3:\n",
        "            break        \n",
        "        j+=1\n"
      ]
    },
    {
      "cell_type": "code",
      "source": [
        "print(doc_sequences[:\n",
        "                    -2],labels[:-2])"
      ],
      "metadata": {
        "colab": {
          "base_uri": "https://localhost:8080/"
        },
        "id": "EK1BPwdtMReZ",
        "outputId": "98f8e03a-aabb-472c-f96e-1c5cbf0684f6"
      },
      "execution_count": 43,
      "outputs": [
        {
          "output_type": "stream",
          "name": "stdout",
          "text": [
            "[[ 0  0  0  0  0  0  0  0]\n",
            " [ 5  6  5  2  0  0  0  0]\n",
            " [ 7  2 10  0  0  0  0  0]\n",
            " [11  6  1  0  0  0  0  0]\n",
            " [12  3  1  0  0  0  0  0]\n",
            " [ 4  3  0  0  0  0  0  0]\n",
            " [13  0  0  0  0  0  0  0]\n",
            " [ 4  8  0  0  0  0  0  0]\n",
            " [14  2  1 15 16  7  3  9]] [1, 1, 0, 1, 1, 0, 0, 0, 1]\n"
          ]
        }
      ]
    },
    {
      "cell_type": "code",
      "execution_count": 44,
      "metadata": {
        "colab": {
          "base_uri": "https://localhost:8080/"
        },
        "id": "F-iH5s18xGnJ",
        "outputId": "fdf9fc94-6a15-46d5-98a0-63dee91fc80c"
      },
      "outputs": [
        {
          "output_type": "stream",
          "name": "stdout",
          "text": [
            "nb steps per epoch 3.6666666666666665\n",
            "Epoch 1/10\n",
            "4/3 - 1s - loss: 0.6768 - acc: 0.6667 - val_loss: 0.6552 - val_acc: 1.0000\n",
            "Epoch 2/10\n",
            "4/3 - 0s - loss: 0.6817 - acc: 0.6667 - val_loss: 0.6546 - val_acc: 1.0000\n",
            "Epoch 3/10\n",
            "4/3 - 0s - loss: 0.6697 - acc: 0.6667 - val_loss: 0.6548 - val_acc: 1.0000\n",
            "Epoch 4/10\n",
            "4/3 - 0s - loss: 0.6696 - acc: 0.6667 - val_loss: 0.6546 - val_acc: 0.5000\n",
            "Epoch 5/10\n",
            "4/3 - 0s - loss: 0.6756 - acc: 0.6667 - val_loss: 0.6541 - val_acc: 0.5000\n",
            "Epoch 6/10\n",
            "4/3 - 0s - loss: 0.6654 - acc: 0.6667 - val_loss: 0.6543 - val_acc: 0.5000\n",
            "Epoch 7/10\n",
            "4/3 - 0s - loss: 0.6646 - acc: 0.6667 - val_loss: 0.6542 - val_acc: 0.5000\n",
            "Epoch 8/10\n",
            "4/3 - 0s - loss: 0.6704 - acc: 0.6667 - val_loss: 0.6538 - val_acc: 0.5000\n",
            "Epoch 9/10\n",
            "4/3 - 0s - loss: 0.6614 - acc: 0.6667 - val_loss: 0.6541 - val_acc: 0.5000\n",
            "Epoch 10/10\n",
            "4/3 - 0s - loss: 0.6600 - acc: 0.6667 - val_loss: 0.6540 - val_acc: 0.5000\n",
            "Model: \"sequential_2\"\n",
            "_________________________________________________________________\n",
            "Layer (type)                 Output Shape              Param #   \n",
            "=================================================================\n",
            "conv1d_2 (Conv1D)            (None, 7, 1)              41        \n",
            "_________________________________________________________________\n",
            "max_pooling1d_2 (MaxPooling1 (None, 3, 1)              0         \n",
            "_________________________________________________________________\n",
            "flatten_2 (Flatten)          (None, 3)                 0         \n",
            "_________________________________________________________________\n",
            "dense_2 (Dense)              (None, 1)                 4         \n",
            "=================================================================\n",
            "Total params: 45\n",
            "Trainable params: 45\n",
            "Non-trainable params: 0\n",
            "_________________________________________________________________\n"
          ]
        }
      ],
      "source": [
        "if do_toy_test:\n",
        "    toy_batch_size=3\n",
        "    toy_model = Sequential([\n",
        "        Conv1D(1, 2, strides=1, activation='relu', kernel_initializer='he_normal', bias_initializer='zeros',input_shape=(toy_max_sent_len,toy_vocab_nb), kernel_regularizer=l2(0.01)),\n",
        "        MaxPool1D(pool_size=2),\n",
        "        Flatten(),\n",
        "        Dense(1, kernel_initializer='he_normal', bias_initializer='zeros', activation='sigmoid')\n",
        "    ])\n",
        "    toy_model.compile(optimizer='rmsprop',\n",
        "              loss='binary_crossentropy',\n",
        "              metrics=['accuracy'])\n",
        "    tb_cb = TensorBoard(log_dir='./logs-test', histogram_freq=0, batch_size=4, \n",
        "                write_graph=True, write_grads=True, )\n",
        "    \n",
        "    test_steps_per_epoch=len(doc_sequences)/toy_batch_size\n",
        "    print(\"nb steps per epoch\", test_steps_per_epoch)\n",
        "    \n",
        "    train_cat_gen = categorical_generator(doc_sequences[:-2],labels[:-2],batch_size=toy_batch_size,vocab_nb=toy_vocab_nb)\n",
        "    xval_cat_gen = categorical_generator(doc_sequences[-2:],labels[-2:],batch_size=toy_batch_size,vocab_nb=toy_vocab_nb)\n",
        "    toy_history = toy_model.fit_generator(train_cat_gen, steps_per_epoch=test_steps_per_epoch,epochs=10, validation_data=xval_cat_gen,validation_steps=1 ,verbose=2, callbacks=[tb_cb])\n",
        "    \n",
        "    toy_model.summary()\n",
        "    toy_model.save('./toy_model_v1')\n",
        "    "
      ]
    },
    {
      "cell_type": "markdown",
      "metadata": {
        "id": "gCkHHCvyxGnJ"
      },
      "source": [
        "## Prepare real data\n",
        "\n",
        "As this process is time consuming, prepared data are stored as numpy arrays. \n",
        "Var is_data_already_prepared is used to control if we need to prepare the data again. "
      ]
    },
    {
      "cell_type": "code",
      "execution_count": 45,
      "metadata": {
        "id": "04qtsGvVxGnJ"
      },
      "outputs": [],
      "source": [
        "# As data as already been prepared, i will be omitted\n",
        "is_data_already_prepared=False\n",
        "max_sent_len = 30\n",
        "if not is_data_already_prepared:\n",
        "    \n",
        "    cleaned_train_neg = clean_docs(source_data)\n",
        "    seq_train_neg = docs_to_sequences(cleaned_train_neg, max_length=max_sent_len)  \n",
        "    '''  \n",
        "    cleaned_train_pos = clean_docs(train_pos)\n",
        "    seq_train_pos = docs_to_sequences(cleaned_train_pos, max_length=max_sent_len)\n",
        "    np.save('./seq_train_neg',seq_train_neg)\n",
        "    '''\n",
        "    np.save('./source_data',source_data)\n",
        "    \n",
        "    cleaned_test_neg = clean_docs(test_data)\n",
        "    seq_test_neg = docs_to_sequences(cleaned_test_neg,max_length=max_sent_len)\n",
        "\n",
        "    '''\n",
        "    cleaned_test_pos = clean_docs(test_pos)\n",
        "    seq_test_pos = docs_to_sequences(cleaned_test_pos, max_length=max_sent_len)\n",
        "    np.save('./seq_test_neg',seq_test_neg)\n",
        "    np.save('./seq_test_pos',seq_test_pos)\n",
        "    '''\n"
      ]
    },
    {
      "cell_type": "code",
      "source": [
        "max_sent_len = 30"
      ],
      "metadata": {
        "id": "tdmhFLI1eW1y"
      },
      "execution_count": 46,
      "outputs": []
    },
    {
      "cell_type": "code",
      "execution_count": null,
      "metadata": {
        "id": "6vVOBalkxGnJ"
      },
      "outputs": [],
      "source": [
        "'''\n",
        "is_data_already_prepared=True\n",
        "if is_data_already_prepared:\n",
        "    seq_test_neg = np.load('./seq_test_neg.npy')\n",
        "    seq_test_pos = np.load('./seq_test_pos.npy')\n",
        "    seq_train_neg = np.load('./seq_train_neg.npy')\n",
        "    seq_train_pos = np.load('./seq_train_pos.npy')\n",
        "    print(\"prepared data loaded\")\n",
        "    '''"
      ]
    },
    {
      "cell_type": "code",
      "execution_count": null,
      "metadata": {
        "id": "yqwiJKpjxGnK"
      },
      "outputs": [],
      "source": [
        "# Print shapes of different prepared datasets\n",
        "'''\n",
        "seq_train_neg[:].shape, seq_train_pos[:].shape,seq_test_neg.shape, seq_test_pos.shape\n",
        "'''"
      ]
    },
    {
      "cell_type": "code",
      "execution_count": 50,
      "metadata": {
        "id": "EjfO6uK3xGnK"
      },
      "outputs": [],
      "source": [
        "#seq_train_neg.shape, type(seq_test_neg)\n",
        "train_pos = np.ones((seq_train_neg.shape[0]))\n",
        "train_neg = np.zeros((seq_train_neg.shape[0]))\n",
        "\n",
        "#test_pos = np.ones((seq_test_neg.shape[0]))\n",
        "#test_neg = np.zeros((seq_test_neg.shape[0]))"
      ]
    },
    {
      "cell_type": "code",
      "source": [
        "type(train_pos)"
      ],
      "metadata": {
        "colab": {
          "base_uri": "https://localhost:8080/"
        },
        "id": "-8xDLYKGhBfe",
        "outputId": "487604a2-3a9a-4651-d85a-caae8052ff83"
      },
      "execution_count": 51,
      "outputs": [
        {
          "output_type": "execute_result",
          "data": {
            "text/plain": [
              "numpy.ndarray"
            ]
          },
          "metadata": {},
          "execution_count": 51
        }
      ]
    },
    {
      "cell_type": "code",
      "execution_count": null,
      "metadata": {
        "id": "b2rgs4eRxGnK"
      },
      "outputs": [],
      "source": [
        "#seq_train = seq_train_neg + seq_train_pos\n",
        "'''\n",
        "seq_train = np.append(seq_train_neg,seq_train_pos,axis=0)\n",
        "seq_test = np.append(seq_test_neg,seq_test_pos,axis=0)\n",
        "train_label = np.append(train_neg,train_pos,axis=0)\n",
        "test_label = np.append(test_neg,test_pos,axis=0)\n",
        "assert np.any(train_label[:12500]==0)\n",
        "assert np.any(train_label[1250:]==1.)\n",
        "assert np.any(test_label[:12500]==0)\n",
        "assert np.any(test_label[12500:]==1.)\n",
        "seq_train_neg.shape, seq_train.shape,seq_test.shape,train_label.shape, test_label.shape\n",
        "'''"
      ]
    },
    {
      "cell_type": "markdown",
      "metadata": {
        "id": "LZCfzesfxGnK"
      },
      "source": [
        "### Prepare validation data set"
      ]
    },
    {
      "cell_type": "code",
      "execution_count": 47,
      "metadata": {
        "id": "h4AHIOcpxGnK"
      },
      "outputs": [],
      "source": [
        "import sklearn.model_selection\n",
        "import numpy as np"
      ]
    },
    {
      "cell_type": "code",
      "source": [
        "type(Label_data)\n",
        "labels = np.array(Label_data)\n",
        "type(labels)"
      ],
      "metadata": {
        "colab": {
          "base_uri": "https://localhost:8080/"
        },
        "id": "NZ7HCW29gYX3",
        "outputId": "0694774b-622d-4949-8421-bc633600cd17"
      },
      "execution_count": 48,
      "outputs": [
        {
          "output_type": "execute_result",
          "data": {
            "text/plain": [
              "numpy.ndarray"
            ]
          },
          "metadata": {},
          "execution_count": 48
        }
      ]
    },
    {
      "cell_type": "code",
      "execution_count": 49,
      "metadata": {
        "colab": {
          "base_uri": "https://localhost:8080/"
        },
        "id": "Or6N1g6LxGnL",
        "outputId": "d89cac6d-328b-47f4-8d80-98bf16123545"
      },
      "outputs": [
        {
          "output_type": "stream",
          "name": "stdout",
          "text": [
            "train & xval shapes: (4136, 30) (1035, 30) (4136,) (1035,)\n"
          ]
        }
      ],
      "source": [
        "xval_rate=0.2\n",
        "X_train, X_xval, y_train, y_xval = sklearn.model_selection.train_test_split(seq_train_neg,labels, test_size=0.2)\n",
        "#assert X_train.shape==(seq_train.shape[0] * (1-xval_rate),seq_train.shape[1])\n",
        "print(\"train & xval shapes:\", X_train.shape,X_xval.shape, y_train.shape, y_xval.shape)\n",
        "\n",
        "#print(X_xval.shape)\n"
      ]
    },
    {
      "cell_type": "code",
      "source": [
        "vocab_nb=20000"
      ],
      "metadata": {
        "id": "sRaTNBYCjndu"
      },
      "execution_count": 50,
      "outputs": []
    },
    {
      "cell_type": "markdown",
      "metadata": {
        "id": "0ytQi0v0xGnL"
      },
      "source": [
        "## Create model and train it\n",
        "\n",
        "### shallow CNN model\n",
        "\n",
        "in order to setup the model with agility, train_nb and xval_nb can be specified with small numbers"
      ]
    },
    {
      "cell_type": "code",
      "execution_count": 51,
      "metadata": {
        "colab": {
          "base_uri": "https://localhost:8080/"
        },
        "id": "1ppB7Ll7xGnL",
        "outputId": "97eddce8-80a3-4244-869c-7a022afad7ac"
      },
      "outputs": [
        {
          "output_type": "stream",
          "name": "stdout",
          "text": [
            "Model: \"sequential_3\"\n",
            "_________________________________________________________________\n",
            "Layer (type)                 Output Shape              Param #   \n",
            "=================================================================\n",
            "conv1d_3 (Conv1D)            (None, 29, 1)             40001     \n",
            "_________________________________________________________________\n",
            "max_pooling1d_3 (MaxPooling1 (None, 14, 1)             0         \n",
            "_________________________________________________________________\n",
            "flatten_3 (Flatten)          (None, 14)                0         \n",
            "_________________________________________________________________\n",
            "dense_3 (Dense)              (None, 1)                 15        \n",
            "=================================================================\n",
            "Total params: 40,016\n",
            "Trainable params: 40,016\n",
            "Non-trainable params: 0\n",
            "_________________________________________________________________\n",
            "nb steps per epoch 53\n",
            "53/53 [==============================] - 20s 377ms/step - loss: 0.6601 - acc: 0.8677 - val_loss: 0.6306 - val_acc: 0.8718\n"
          ]
        }
      ],
      "source": [
        "do_train=True\n",
        "if do_train:\n",
        "\n",
        "    batch_size=78\n",
        "    epochs_nb = 1\n",
        "    model = Sequential([\n",
        "        Conv1D(1, 2, strides=1, activation='relu', kernel_initializer='he_normal', \n",
        "               bias_initializer='zeros',input_shape=(max_sent_len,vocab_nb),\n",
        "                kernel_regularizer=l2(0.01)),\n",
        "        MaxPool1D(pool_size=2),\n",
        "        Flatten(),\n",
        "        Dense(1, kernel_initializer='he_normal', bias_initializer='zeros',activation='sigmoid')\n",
        "    ])\n",
        "    rmsprop = RMSprop(lr=1e-3)\n",
        "    # results on sgd are by far worst than rmsprop\n",
        "    sgd = SGD(lr=1e-3, momentum=0.9)\n",
        "    \n",
        "    model.compile(optimizer=rmsprop,\n",
        "              loss='binary_crossentropy',\n",
        "              metrics=['accuracy'])\n",
        "    model.summary()\n",
        "    \n",
        "    cb_list = [\n",
        "        ReduceLROnPlateau(monitor='val_loss',factor=0.1,patience=10),\n",
        "        TensorBoard(log_dir='./logs', histogram_freq=0, batch_size=32, \n",
        "                write_graph=True, write_grads=True, )\n",
        "    ]\n",
        "    \n",
        "    # used to train only on a subset while configuring the network architecture\n",
        "    train_nb = 128\n",
        "    # comment next line if you want to work on a smaller dataset\n",
        "    train_nb = None\n",
        "    if not train_nb:\n",
        "        train_nb = len(X_train)\n",
        "    xval_nb = 20\n",
        "    # comment next line if you want to work on a smaller dataset\n",
        "    xval_nb = None\n",
        "    if not xval_nb:\n",
        "        xval_nb = len(X_xval)\n",
        "\n",
        "    steps_per_epoch=train_nb// batch_size\n",
        "    print(\"nb steps per epoch\", steps_per_epoch)\n",
        "    train_cat_gen = categorical_generator(X_train[:train_nb],y_train[:train_nb],batch_size=batch_size,vocab_nb=vocab_nb)\n",
        "    xval_cat_gen = categorical_generator(X_xval[:xval_nb],y_xval[:xval_nb],batch_size=batch_size,vocab_nb=vocab_nb)\n",
        "    history = model.fit_generator(train_cat_gen, steps_per_epoch=steps_per_epoch,epochs=epochs_nb, \n",
        "                                  validation_data=xval_cat_gen,\n",
        "                                  validation_steps=1 ,verbose=1, callbacks=cb_list)\n",
        "    \n",
        "    \n",
        "    model.save('./model_v1.hdf5')\n",
        "    model.save_weights('./model_w_v1')\n"
      ]
    },
    {
      "cell_type": "code",
      "source": [
        "def createmodel():\n",
        "  model = Sequential([\n",
        "        Conv1D(1, 2, strides=1, activation='relu', kernel_initializer='he_normal', \n",
        "               bias_initializer='zeros',input_shape=(max_sent_len,vocab_nb),\n",
        "                kernel_regularizer=l2(0.01)),\n",
        "        MaxPool1D(pool_size=2),\n",
        "        Flatten(),\n",
        "        Dense(1, kernel_initializer='he_normal', bias_initializer='zeros',activation='sigmoid')\n",
        "       ])\n",
        "  rmsprop = RMSprop(lr=1e-3)\n",
        "    # results on sgd are by far worst than rmsprop\n",
        "  sgd = SGD(lr=1e-3, momentum=0.9)\n",
        "    \n",
        "  model.compile(optimizer=rmsprop,\n",
        "              loss='binary_crossentropy',\n",
        "              metrics=['accuracy'])\n",
        "  model.summary()\n",
        "    \n",
        "  cb_list = [\n",
        "        ReduceLROnPlateau(monitor='val_loss',factor=0.1,patience=10),\n",
        "        TensorBoard(log_dir='./logs', histogram_freq=0, batch_size=32, \n",
        "                write_graph=True, write_grads=True, )\n",
        "    ]"
      ],
      "metadata": {
        "id": "9e0NfbrdpkkV"
      },
      "execution_count": 93,
      "outputs": []
    },
    {
      "cell_type": "markdown",
      "metadata": {
        "id": "dGYDvIX_xGnL"
      },
      "source": [
        "### Plot results"
      ]
    },
    {
      "cell_type": "code",
      "execution_count": 52,
      "metadata": {
        "id": "DKTWARQ7xGnM"
      },
      "outputs": [],
      "source": [
        "%matplotlib inline"
      ]
    },
    {
      "cell_type": "code",
      "source": [
        "import h5py"
      ],
      "metadata": {
        "id": "rr-E6JlnpMSH"
      },
      "execution_count": 53,
      "outputs": []
    },
    {
      "cell_type": "code",
      "execution_count": 54,
      "metadata": {
        "colab": {
          "base_uri": "https://localhost:8080/",
          "height": 545
        },
        "id": "SGCWWecaxGnM",
        "outputId": "d8d6f8e7-c5a2-425c-af65-9da634952454"
      },
      "outputs": [
        {
          "output_type": "display_data",
          "data": {
            "text/plain": [
              "<Figure size 432x288 with 1 Axes>"
            ],
            "image/png": "[encoded data removed]"
          },
          "metadata": {
            "needs_background": "light"
          }
        },
        {
          "output_type": "display_data",
          "data": {
            "text/plain": [
              "<Figure size 432x288 with 1 Axes>"
            ],
            "image/png": "[encoded data removed]"
          },
          "metadata": {
            "needs_background": "light"
          }
        }
      ],
      "source": [
        "import matplotlib.pyplot as plt\n",
        "\n",
        "acc = history.history['acc']\n",
        "val_acc = history.history['val_acc']\n",
        "loss = history.history['loss']\n",
        "val_loss = history.history['val_loss']\n",
        "\n",
        "epochs = range(len(acc))\n",
        "\n",
        "plt.plot(epochs, acc, 'bo', label='Training acc')\n",
        "plt.plot(epochs, val_acc, 'b', label='Validation acc')\n",
        "plt.title('Training and validation accuracy')\n",
        "plt.legend()\n",
        "\n",
        "plt.figure()\n",
        "\n",
        "plt.plot(epochs, loss, 'bo', label='Training loss')\n",
        "plt.plot(epochs, val_loss, 'b', label='Validation loss')\n",
        "plt.title('Training and validation loss')\n",
        "plt.legend()\n",
        "\n",
        "plt.show()"
      ]
    },
    {
      "cell_type": "markdown",
      "metadata": {
        "id": "Bi1jCDEuxGnM"
      },
      "source": [
        "## Evaluate on test data"
      ]
    },
    {
      "cell_type": "code",
      "execution_count": 109,
      "metadata": {
        "id": "YgaSMmWLxGnM"
      },
      "outputs": [],
      "source": [
        "#from tensorflow.keras.models import load_model"
      ]
    },
    {
      "cell_type": "code",
      "execution_count": null,
      "metadata": {
        "id": "37D_H62kxGnM"
      },
      "outputs": [],
      "source": [
        "#loaded_model = load_model('./model_v1.hdf5')"
      ]
    },
    {
      "cell_type": "code",
      "source": [
        "#pip install h5py"
      ],
      "metadata": {
        "id": "2d69SBc0smkh"
      },
      "execution_count": null,
      "outputs": []
    },
    {
      "cell_type": "code",
      "execution_count": 56,
      "metadata": {
        "colab": {
          "base_uri": "https://localhost:8080/"
        },
        "id": "hmX253owxGnM",
        "outputId": "b5864610-7f6b-456f-d1eb-61800c76a8b9"
      },
      "outputs": [
        {
          "output_type": "stream",
          "name": "stdout",
          "text": [
            "21/21 [==============================] - 0s 2ms/sample - loss: 0.6447 - acc: 0.8571\n",
            "test_loss: 0.6446771025657654  test accuracy: 0.85714287\n",
            "21/21 [==============================] - 0s 2ms/sample - loss: 0.6492 - acc: 0.8095\n",
            "test_loss: 0.6491934061050415  test accuracy: 0.8095238\n",
            "21/21 [==============================] - 0s 2ms/sample - loss: 0.6292 - acc: 0.9048\n",
            "test_loss: 0.6291744709014893  test accuracy: 0.9047619\n",
            "21/21 [==============================] - 0s 2ms/sample - loss: 0.6381 - acc: 0.8571\n",
            "test_loss: 0.6380521059036255  test accuracy: 0.85714287\n",
            "21/21 [==============================] - 0s 2ms/sample - loss: 0.6168 - acc: 0.9524\n",
            "test_loss: 0.616775393486023  test accuracy: 0.95238096\n",
            "21/21 [==============================] - 0s 2ms/sample - loss: 0.6161 - acc: 0.9048\n",
            "test_loss: 0.6161391139030457  test accuracy: 0.9047619\n",
            "21/21 [==============================] - 0s 2ms/sample - loss: 0.6243 - acc: 0.9048\n",
            "test_loss: 0.6243162751197815  test accuracy: 0.9047619\n",
            "21/21 [==============================] - 0s 2ms/sample - loss: 0.6118 - acc: 0.9524\n",
            "test_loss: 0.6118364334106445  test accuracy: 0.95238096\n",
            "21/21 [==============================] - 0s 2ms/sample - loss: 0.6213 - acc: 0.9524\n",
            "test_loss: 0.6213335394859314  test accuracy: 0.95238096\n",
            "21/21 [==============================] - 0s 2ms/sample - loss: 0.6507 - acc: 0.7619\n",
            "test_loss: 0.6506860852241516  test accuracy: 0.7619048\n",
            "21/21 [==============================] - 0s 2ms/sample - loss: 0.6326 - acc: 0.8571\n",
            "test_loss: 0.6326212882995605  test accuracy: 0.85714287\n",
            "21/21 [==============================] - 0s 2ms/sample - loss: 0.6037 - acc: 1.0000\n",
            "test_loss: 0.6036669015884399  test accuracy: 1.0\n",
            "21/21 [==============================] - 0s 2ms/sample - loss: 0.6147 - acc: 0.9524\n",
            "test_loss: 0.6146584153175354  test accuracy: 0.95238096\n",
            "21/21 [==============================] - 0s 2ms/sample - loss: 0.6296 - acc: 0.9048\n",
            "test_loss: 0.6295729875564575  test accuracy: 0.9047619\n",
            "21/21 [==============================] - 0s 2ms/sample - loss: 0.6717 - acc: 0.7143\n",
            "test_loss: 0.6716629266738892  test accuracy: 0.71428573\n",
            "21/21 [==============================] - 0s 2ms/sample - loss: 0.6270 - acc: 0.9048\n",
            "test_loss: 0.6270164847373962  test accuracy: 0.9047619\n",
            "21/21 [==============================] - 0s 2ms/sample - loss: 0.6329 - acc: 0.8571\n",
            "test_loss: 0.6328848004341125  test accuracy: 0.85714287\n",
            "21/21 [==============================] - 0s 2ms/sample - loss: 0.6324 - acc: 0.9048\n",
            "test_loss: 0.6324493885040283  test accuracy: 0.9047619\n",
            "21/21 [==============================] - 0s 2ms/sample - loss: 0.6380 - acc: 0.8571\n",
            "test_loss: 0.6379961967468262  test accuracy: 0.85714287\n",
            "21/21 [==============================] - 0s 2ms/sample - loss: 0.6334 - acc: 0.9048\n",
            "test_loss: 0.6334272027015686  test accuracy: 0.9047619\n",
            "1/1 [==============================] - 0s 3ms/sample - loss: 0.6396 - acc: 1.0000\n",
            "test_loss: 0.6396077275276184  test accuracy: 1.0\n"
          ]
        }
      ],
      "source": [
        "step = 20\n",
        "max_test_nb = seq_test_neg.shape[0]\n",
        "for i in range(0,max_test_nb,step):    \n",
        "    test_from = i\n",
        "    test_size=20\n",
        "    test_to = test_from + test_size+1\n",
        "    test_X= to_categorical(seq_test_neg[test_from:test_to],num_classes=vocab_nb)\n",
        "    test_y = Label_test[test_from:test_to]\n",
        "    \n",
        "    test_loss, test_acc = model.evaluate(test_X, test_y)\n",
        "    print('test_loss:', test_loss, ' test accuracy:', test_acc)"
      ]
    },
    {
      "cell_type": "code",
      "execution_count": null,
      "metadata": {
        "id": "_kme45ANxGnN"
      },
      "outputs": [],
      "source": []
    },
    {
      "cell_type": "code",
      "execution_count": null,
      "metadata": {
        "id": "mxT7x_NmxGnN"
      },
      "outputs": [],
      "source": []
    }
  ],
  "metadata": {
    "kernelspec": {
      "display_name": "Python 3",
      "language": "python",
      "name": "python3"
    },
    "language_info": {
      "codemirror_mode": {
        "name": "ipython",
        "version": 3
      },
      "file_extension": ".py",
      "mimetype": "text/x-python",
      "name": "python",
      "nbconvert_exporter": "python",
      "pygments_lexer": "ipython3",
      "version": "3.5.2"
    },
    "colab": {
      "provenance": [],
      "collapsed_sections": []
    },
    "accelerator": "GPU",
    "gpuClass": "standard"
  },
  "nbformat": 4,
  "nbformat_minor": 0
}